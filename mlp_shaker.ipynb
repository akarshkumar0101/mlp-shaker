{
 "cells": [
  {
   "cell_type": "code",
   "execution_count": 1,
   "metadata": {},
   "outputs": [],
   "source": [
    "%load_ext autoreload\n",
    "%autoreload 2"
   ]
  },
  {
   "cell_type": "code",
   "execution_count": 2,
   "metadata": {},
   "outputs": [],
   "source": [
    "%run imports.py"
   ]
  },
  {
   "cell_type": "code",
   "execution_count": 3,
   "metadata": {},
   "outputs": [],
   "source": [
    "task = mnist.MNIST()\n",
    "task.load_all_data(device)"
   ]
  },
  {
   "cell_type": "code",
   "execution_count": null,
   "metadata": {},
   "outputs": [],
   "source": []
  },
  {
   "cell_type": "code",
   "execution_count": 3,
   "metadata": {},
   "outputs": [
    {
     "name": "stdout",
     "output_type": "stream",
     "text": [
      "Files already downloaded and verified\n",
      "Files already downloaded and verified\n"
     ]
    }
   ],
   "source": [
    "h, w = 32, 32\n",
    "nph, npw = 8, 8\n",
    "bs_train, bs_test = 500, 1000\n",
    "\n",
    "transform = torchvision.transforms.Compose([\n",
    "    torchvision.transforms.ToTensor(),\n",
    "    torchvision.transforms.Normalize((0.4914, 0.4822, 0.4465), (0.247, 0.243, 0.261)),\n",
    "#     torchvision.transforms.Resize((h, w), ), \n",
    "#     Rearrange('c (nph psh) (npw psw) -> (nph npw) (psh psw c)', nph=8, npw=8),\n",
    "])\n",
    "ds_train = torchvision.datasets.CIFAR10('~/datasets/cifar10/', train=True, download=True, transform=transform)\n",
    "ds_test = torchvision.datasets.CIFAR10('~/datasets/cifar10/', train=False, download=True, transform=transform)\n",
    "dl_train = torch.utils.data.DataLoader(ds_train, batch_size=bs_train, shuffle=True,)\n",
    "dl_test = torch.utils.data.DataLoader(ds_test, batch_size=bs_test, shuffle=True,)\n",
    "labels = ['airplane', 'automobile', 'bird', 'cat', 'deer', 'dog', 'frog', 'horse', 'ship', 'truck']"
   ]
  },
  {
   "cell_type": "code",
   "execution_count": 4,
   "metadata": {},
   "outputs": [],
   "source": [
    "import mlp_shaker_flat\n",
    "import torchinfo"
   ]
  },
  {
   "cell_type": "code",
   "execution_count": 5,
   "metadata": {},
   "outputs": [
    {
     "data": {
      "text/plain": [
       "==========================================================================================\n",
       "Layer (type:depth-idx)                   Output Shape              Param #\n",
       "==========================================================================================\n",
       "ViShaker                                 --                        --\n",
       "├─Rearrange: 1-1                         [500, 8, 8, 4, 4, 3]      --\n",
       "├─MLPFlatShaker: 1-2                     [500, 8, 8, 4, 4, 3]      --\n",
       "│    └─ModuleList: 2                     --                        --\n",
       "│    │    └─PreNormResidual: 3-1         [500, 8, 8, 4, 4, 3]      160\n",
       "│    │    └─PreNormResidual: 3-2         [500, 8, 8, 4, 4, 3]      160\n",
       "│    │    └─PreNormResidual: 3-3         [500, 8, 8, 4, 4, 3]      48\n",
       "│    │    └─PreNormResidual: 3-4         [500, 8, 8, 4, 4, 3]      48\n",
       "│    │    └─PreNormResidual: 3-5         [500, 8, 8, 4, 4, 3]      30\n",
       "│    │    └─PreNormResidual: 3-6         [500, 8, 8, 4, 4, 3]      160\n",
       "│    │    └─PreNormResidual: 3-7         [500, 8, 8, 4, 4, 3]      160\n",
       "│    │    └─PreNormResidual: 3-8         [500, 8, 8, 4, 4, 3]      48\n",
       "│    │    └─PreNormResidual: 3-9         [500, 8, 8, 4, 4, 3]      48\n",
       "│    │    └─PreNormResidual: 3-10        [500, 8, 8, 4, 4, 3]      30\n",
       "│    │    └─PreNormResidual: 3-11        [500, 8, 8, 4, 4, 3]      160\n",
       "│    │    └─PreNormResidual: 3-12        [500, 8, 8, 4, 4, 3]      160\n",
       "│    │    └─PreNormResidual: 3-13        [500, 8, 8, 4, 4, 3]      48\n",
       "│    │    └─PreNormResidual: 3-14        [500, 8, 8, 4, 4, 3]      48\n",
       "│    │    └─PreNormResidual: 3-15        [500, 8, 8, 4, 4, 3]      30\n",
       "│    │    └─PreNormResidual: 3-16        [500, 8, 8, 4, 4, 3]      160\n",
       "│    │    └─PreNormResidual: 3-17        [500, 8, 8, 4, 4, 3]      160\n",
       "│    │    └─PreNormResidual: 3-18        [500, 8, 8, 4, 4, 3]      48\n",
       "│    │    └─PreNormResidual: 3-19        [500, 8, 8, 4, 4, 3]      48\n",
       "│    │    └─PreNormResidual: 3-20        [500, 8, 8, 4, 4, 3]      30\n",
       "│    │    └─PreNormResidual: 3-21        [500, 8, 8, 4, 4, 3]      160\n",
       "│    │    └─PreNormResidual: 3-22        [500, 8, 8, 4, 4, 3]      160\n",
       "│    │    └─PreNormResidual: 3-23        [500, 8, 8, 4, 4, 3]      48\n",
       "│    │    └─PreNormResidual: 3-24        [500, 8, 8, 4, 4, 3]      48\n",
       "│    │    └─PreNormResidual: 3-25        [500, 8, 8, 4, 4, 3]      30\n",
       "│    │    └─PreNormResidual: 3-26        [500, 8, 8, 4, 4, 3]      160\n",
       "│    │    └─PreNormResidual: 3-27        [500, 8, 8, 4, 4, 3]      160\n",
       "│    │    └─PreNormResidual: 3-28        [500, 8, 8, 4, 4, 3]      48\n",
       "│    │    └─PreNormResidual: 3-29        [500, 8, 8, 4, 4, 3]      48\n",
       "│    │    └─PreNormResidual: 3-30        [500, 8, 8, 4, 4, 3]      30\n",
       "│    │    └─PreNormResidual: 3-31        [500, 8, 8, 4, 4, 3]      160\n",
       "│    │    └─PreNormResidual: 3-32        [500, 8, 8, 4, 4, 3]      160\n",
       "│    │    └─PreNormResidual: 3-33        [500, 8, 8, 4, 4, 3]      48\n",
       "│    │    └─PreNormResidual: 3-34        [500, 8, 8, 4, 4, 3]      48\n",
       "│    │    └─PreNormResidual: 3-35        [500, 8, 8, 4, 4, 3]      30\n",
       "│    │    └─PreNormResidual: 3-36        [500, 8, 8, 4, 4, 3]      160\n",
       "│    │    └─PreNormResidual: 3-37        [500, 8, 8, 4, 4, 3]      160\n",
       "│    │    └─PreNormResidual: 3-38        [500, 8, 8, 4, 4, 3]      48\n",
       "│    │    └─PreNormResidual: 3-39        [500, 8, 8, 4, 4, 3]      48\n",
       "│    │    └─PreNormResidual: 3-40        [500, 8, 8, 4, 4, 3]      30\n",
       "│    │    └─PreNormResidual: 3-41        [500, 8, 8, 4, 4, 3]      160\n",
       "│    │    └─PreNormResidual: 3-42        [500, 8, 8, 4, 4, 3]      160\n",
       "│    │    └─PreNormResidual: 3-43        [500, 8, 8, 4, 4, 3]      48\n",
       "│    │    └─PreNormResidual: 3-44        [500, 8, 8, 4, 4, 3]      48\n",
       "│    │    └─PreNormResidual: 3-45        [500, 8, 8, 4, 4, 3]      30\n",
       "│    │    └─PreNormResidual: 3-46        [500, 8, 8, 4, 4, 3]      160\n",
       "│    │    └─PreNormResidual: 3-47        [500, 8, 8, 4, 4, 3]      160\n",
       "│    │    └─PreNormResidual: 3-48        [500, 8, 8, 4, 4, 3]      48\n",
       "│    │    └─PreNormResidual: 3-49        [500, 8, 8, 4, 4, 3]      48\n",
       "│    │    └─PreNormResidual: 3-50        [500, 8, 8, 4, 4, 3]      30\n",
       "│    │    └─PreNormResidual: 3-51        [500, 8, 8, 4, 4, 3]      160\n",
       "│    │    └─PreNormResidual: 3-52        [500, 8, 8, 4, 4, 3]      160\n",
       "│    │    └─PreNormResidual: 3-53        [500, 8, 8, 4, 4, 3]      48\n",
       "│    │    └─PreNormResidual: 3-54        [500, 8, 8, 4, 4, 3]      48\n",
       "│    │    └─PreNormResidual: 3-55        [500, 8, 8, 4, 4, 3]      30\n",
       "│    │    └─PreNormResidual: 3-56        [500, 8, 8, 4, 4, 3]      160\n",
       "│    │    └─PreNormResidual: 3-57        [500, 8, 8, 4, 4, 3]      160\n",
       "│    │    └─PreNormResidual: 3-58        [500, 8, 8, 4, 4, 3]      48\n",
       "│    │    └─PreNormResidual: 3-59        [500, 8, 8, 4, 4, 3]      48\n",
       "│    │    └─PreNormResidual: 3-60        [500, 8, 8, 4, 4, 3]      30\n",
       "│    │    └─PreNormResidual: 3-61        [500, 8, 8, 4, 4, 3]      160\n",
       "│    │    └─PreNormResidual: 3-62        [500, 8, 8, 4, 4, 3]      160\n",
       "│    │    └─PreNormResidual: 3-63        [500, 8, 8, 4, 4, 3]      48\n",
       "│    │    └─PreNormResidual: 3-64        [500, 8, 8, 4, 4, 3]      48\n",
       "│    │    └─PreNormResidual: 3-65        [500, 8, 8, 4, 4, 3]      30\n",
       "│    │    └─PreNormResidual: 3-66        [500, 8, 8, 4, 4, 3]      160\n",
       "│    │    └─PreNormResidual: 3-67        [500, 8, 8, 4, 4, 3]      160\n",
       "│    │    └─PreNormResidual: 3-68        [500, 8, 8, 4, 4, 3]      48\n",
       "│    │    └─PreNormResidual: 3-69        [500, 8, 8, 4, 4, 3]      48\n",
       "│    │    └─PreNormResidual: 3-70        [500, 8, 8, 4, 4, 3]      30\n",
       "│    │    └─PreNormResidual: 3-71        [500, 8, 8, 4, 4, 3]      160\n",
       "│    │    └─PreNormResidual: 3-72        [500, 8, 8, 4, 4, 3]      160\n",
       "│    │    └─PreNormResidual: 3-73        [500, 8, 8, 4, 4, 3]      48\n",
       "│    │    └─PreNormResidual: 3-74        [500, 8, 8, 4, 4, 3]      48\n",
       "│    │    └─PreNormResidual: 3-75        [500, 8, 8, 4, 4, 3]      30\n",
       "│    │    └─PreNormResidual: 3-76        [500, 8, 8, 4, 4, 3]      160\n",
       "│    │    └─PreNormResidual: 3-77        [500, 8, 8, 4, 4, 3]      160\n",
       "│    │    └─PreNormResidual: 3-78        [500, 8, 8, 4, 4, 3]      48\n",
       "│    │    └─PreNormResidual: 3-79        [500, 8, 8, 4, 4, 3]      48\n",
       "│    │    └─PreNormResidual: 3-80        [500, 8, 8, 4, 4, 3]      30\n",
       "│    │    └─PreNormResidual: 3-81        [500, 8, 8, 4, 4, 3]      160\n",
       "│    │    └─PreNormResidual: 3-82        [500, 8, 8, 4, 4, 3]      160\n",
       "│    │    └─PreNormResidual: 3-83        [500, 8, 8, 4, 4, 3]      48\n",
       "│    │    └─PreNormResidual: 3-84        [500, 8, 8, 4, 4, 3]      48\n",
       "│    │    └─PreNormResidual: 3-85        [500, 8, 8, 4, 4, 3]      30\n",
       "│    │    └─PreNormResidual: 3-86        [500, 8, 8, 4, 4, 3]      160\n",
       "│    │    └─PreNormResidual: 3-87        [500, 8, 8, 4, 4, 3]      160\n",
       "│    │    └─PreNormResidual: 3-88        [500, 8, 8, 4, 4, 3]      48\n",
       "│    │    └─PreNormResidual: 3-89        [500, 8, 8, 4, 4, 3]      48\n",
       "│    │    └─PreNormResidual: 3-90        [500, 8, 8, 4, 4, 3]      30\n",
       "│    │    └─PreNormResidual: 3-91        [500, 8, 8, 4, 4, 3]      160\n",
       "│    │    └─PreNormResidual: 3-92        [500, 8, 8, 4, 4, 3]      160\n",
       "│    │    └─PreNormResidual: 3-93        [500, 8, 8, 4, 4, 3]      48\n",
       "│    │    └─PreNormResidual: 3-94        [500, 8, 8, 4, 4, 3]      48\n",
       "│    │    └─PreNormResidual: 3-95        [500, 8, 8, 4, 4, 3]      30\n",
       "│    │    └─PreNormResidual: 3-96        [500, 8, 8, 4, 4, 3]      160\n",
       "│    │    └─PreNormResidual: 3-97        [500, 8, 8, 4, 4, 3]      160\n",
       "│    │    └─PreNormResidual: 3-98        [500, 8, 8, 4, 4, 3]      48\n",
       "│    │    └─PreNormResidual: 3-99        [500, 8, 8, 4, 4, 3]      48\n",
       "│    │    └─PreNormResidual: 3-100       [500, 8, 8, 4, 4, 3]      30\n",
       "│    │    └─PreNormResidual: 3-101       [500, 8, 8, 4, 4, 3]      160\n",
       "│    │    └─PreNormResidual: 3-102       [500, 8, 8, 4, 4, 3]      160\n",
       "│    │    └─PreNormResidual: 3-103       [500, 8, 8, 4, 4, 3]      48\n",
       "│    │    └─PreNormResidual: 3-104       [500, 8, 8, 4, 4, 3]      48\n",
       "│    │    └─PreNormResidual: 3-105       [500, 8, 8, 4, 4, 3]      30\n",
       "│    │    └─PreNormResidual: 3-106       [500, 8, 8, 4, 4, 3]      160\n",
       "│    │    └─PreNormResidual: 3-107       [500, 8, 8, 4, 4, 3]      160\n",
       "│    │    └─PreNormResidual: 3-108       [500, 8, 8, 4, 4, 3]      48\n",
       "│    │    └─PreNormResidual: 3-109       [500, 8, 8, 4, 4, 3]      48\n",
       "│    │    └─PreNormResidual: 3-110       [500, 8, 8, 4, 4, 3]      30\n",
       "│    │    └─PreNormResidual: 3-111       [500, 8, 8, 4, 4, 3]      160\n",
       "│    │    └─PreNormResidual: 3-112       [500, 8, 8, 4, 4, 3]      160\n",
       "│    │    └─PreNormResidual: 3-113       [500, 8, 8, 4, 4, 3]      48\n",
       "│    │    └─PreNormResidual: 3-114       [500, 8, 8, 4, 4, 3]      48\n",
       "│    │    └─PreNormResidual: 3-115       [500, 8, 8, 4, 4, 3]      30\n",
       "│    │    └─PreNormResidual: 3-116       [500, 8, 8, 4, 4, 3]      160\n",
       "│    │    └─PreNormResidual: 3-117       [500, 8, 8, 4, 4, 3]      160\n",
       "│    │    └─PreNormResidual: 3-118       [500, 8, 8, 4, 4, 3]      48\n",
       "│    │    └─PreNormResidual: 3-119       [500, 8, 8, 4, 4, 3]      48\n",
       "│    │    └─PreNormResidual: 3-120       [500, 8, 8, 4, 4, 3]      30\n",
       "│    │    └─PreNormResidual: 3-121       [500, 8, 8, 4, 4, 3]      160\n",
       "│    │    └─PreNormResidual: 3-122       [500, 8, 8, 4, 4, 3]      160\n",
       "│    │    └─PreNormResidual: 3-123       [500, 8, 8, 4, 4, 3]      48\n",
       "│    │    └─PreNormResidual: 3-124       [500, 8, 8, 4, 4, 3]      48\n",
       "│    │    └─PreNormResidual: 3-125       [500, 8, 8, 4, 4, 3]      30\n",
       "│    │    └─PreNormResidual: 3-126       [500, 8, 8, 4, 4, 3]      160\n",
       "│    │    └─PreNormResidual: 3-127       [500, 8, 8, 4, 4, 3]      160\n",
       "│    │    └─PreNormResidual: 3-128       [500, 8, 8, 4, 4, 3]      48\n",
       "│    │    └─PreNormResidual: 3-129       [500, 8, 8, 4, 4, 3]      48\n",
       "│    │    └─PreNormResidual: 3-130       [500, 8, 8, 4, 4, 3]      30\n",
       "│    │    └─PreNormResidual: 3-131       [500, 8, 8, 4, 4, 3]      160\n",
       "│    │    └─PreNormResidual: 3-132       [500, 8, 8, 4, 4, 3]      160\n",
       "│    │    └─PreNormResidual: 3-133       [500, 8, 8, 4, 4, 3]      48\n",
       "│    │    └─PreNormResidual: 3-134       [500, 8, 8, 4, 4, 3]      48\n",
       "│    │    └─PreNormResidual: 3-135       [500, 8, 8, 4, 4, 3]      30\n",
       "│    │    └─PreNormResidual: 3-136       [500, 8, 8, 4, 4, 3]      160\n",
       "│    │    └─PreNormResidual: 3-137       [500, 8, 8, 4, 4, 3]      160\n",
       "│    │    └─PreNormResidual: 3-138       [500, 8, 8, 4, 4, 3]      48\n",
       "│    │    └─PreNormResidual: 3-139       [500, 8, 8, 4, 4, 3]      48\n",
       "│    │    └─PreNormResidual: 3-140       [500, 8, 8, 4, 4, 3]      30\n",
       "│    │    └─PreNormResidual: 3-141       [500, 8, 8, 4, 4, 3]      160\n",
       "│    │    └─PreNormResidual: 3-142       [500, 8, 8, 4, 4, 3]      160\n",
       "│    │    └─PreNormResidual: 3-143       [500, 8, 8, 4, 4, 3]      48\n",
       "│    │    └─PreNormResidual: 3-144       [500, 8, 8, 4, 4, 3]      48\n",
       "│    │    └─PreNormResidual: 3-145       [500, 8, 8, 4, 4, 3]      30\n",
       "│    │    └─PreNormResidual: 3-146       [500, 8, 8, 4, 4, 3]      160\n",
       "│    │    └─PreNormResidual: 3-147       [500, 8, 8, 4, 4, 3]      160\n",
       "│    │    └─PreNormResidual: 3-148       [500, 8, 8, 4, 4, 3]      48\n",
       "│    │    └─PreNormResidual: 3-149       [500, 8, 8, 4, 4, 3]      48\n",
       "│    │    └─PreNormResidual: 3-150       [500, 8, 8, 4, 4, 3]      30\n",
       "├─Reduce: 1-3                            [500, 4, 4, 3]            --\n",
       "├─Linear: 1-4                            [500, 10]                 490\n",
       "==========================================================================================\n",
       "Total params: 13,870\n",
       "Trainable params: 13,870\n",
       "Non-trainable params: 0\n",
       "Total mult-adds (M): 128.81\n",
       "==========================================================================================\n",
       "Input size (MB): 6.14\n",
       "Forward/backward pass size (MB): 1843.24\n",
       "Params size (MB): 0.06\n",
       "Estimated Total Size (MB): 1849.44\n",
       "=========================================================================================="
      ]
     },
     "execution_count": 5,
     "metadata": {},
     "output_type": "execute_result"
    }
   ],
   "source": [
    "net = mlp_shaker_flat.ViShaker([8, 8, 4, 4, 3], [0, 1, 2, 3, 4]*30, \n",
    "                               global_avg_pool_str='b i j k l m-> b k l m')\n",
    "# net = mlp_shaker_flat.ViShaker([64, 48], [0, 1]*16, \n",
    "#                                global_avg_pool_str='b i j -> b j')\n",
    "torchinfo.summary(net, input_size=(bs_train, 3, 32, 32), device='cuda')"
   ]
  },
  {
   "cell_type": "code",
   "execution_count": 6,
   "metadata": {},
   "outputs": [],
   "source": [
    "loss_fn = nn.NLLLoss()\n",
    "def evaluate_model(net, dl=None, n_batches=-1, tqdm=tqdm, device=None, verbose=False):\n",
    "    net = net.to(device)\n",
    "    n_correct, total = 0, 0\n",
    "    loss_total = 0\n",
    "    n_examples = 0\n",
    "    loop = enumerate(dl)\n",
    "    if tqdm is not None:\n",
    "        loop = tqdm(loop, leave=False, total=max(n_batches, len(dl)))\n",
    "    for batch_idx, (X_batch, Y_batch) in loop:\n",
    "        X_batch, Y_batch = X_batch.to(device), Y_batch.to(device)\n",
    "        if batch_idx == n_batches:\n",
    "            break\n",
    "        with torch.no_grad():\n",
    "            Y_batch_pred = net(X_batch)\n",
    "        n_correct += (Y_batch_pred.argmax(dim=-1)==Y_batch).sum().item()\n",
    "        loss = loss_fn(Y_batch_pred, Y_batch).item()\n",
    "        loss_total += loss * len(X_batch)\n",
    "        n_examples += len(X_batch)\n",
    "        total += len(Y_batch)\n",
    "    loss_total /= n_examples\n",
    "    accuracy = n_correct/total*100.\n",
    "    if verbose:\n",
    "        print(f'Average Loss: {loss_total:.03f}, Accuracy: {accuracy:.03f}%')\n",
    "    return {'loss': loss_total, 'accuracy': accuracy}\n",
    "    \n",
    "def train_classification_model(net, dl, n_epochs=10, device=None):\n",
    "    net = net.to(device)\n",
    "    opt = torch.optim.Adam(net.parameters(), lr=1e-3, )\n",
    "    \n",
    "    for epoch_idx in tqdm(range(n_epochs)):\n",
    "        loop = enumerate(dl)\n",
    "        if tqdm is not None:\n",
    "            loop = tqdm(loop, leave=False, total=len(dl))\n",
    "        for batch_idx, (X_batch, Y_batch) in loop:\n",
    "            X_batch, Y_batch = X_batch.to(device), Y_batch.to(device)\n",
    "            Y_batch_pred = net(X_batch)\n",
    "\n",
    "            loss = loss_fn(Y_batch_pred, Y_batch)\n",
    "\n",
    "            opt.zero_grad()\n",
    "            loss.backward()\n",
    "            opt.step()\n",
    "        evaluate_model(net, dl_test, device='cuda', verbose=True)\n",
    "    "
   ]
  },
  {
   "cell_type": "markdown",
   "metadata": {},
   "source": [
    "# My MLP SHAKER implementation:"
   ]
  },
  {
   "cell_type": "code",
   "execution_count": 7,
   "metadata": {},
   "outputs": [
    {
     "data": {
      "application/vnd.jupyter.widget-view+json": {
       "model_id": "",
       "version_major": 2,
       "version_minor": 0
      },
      "text/plain": [
       "HBox(children=(FloatProgress(value=0.0, max=10.0), HTML(value='')))"
      ]
     },
     "metadata": {},
     "output_type": "display_data"
    },
    {
     "name": "stdout",
     "output_type": "stream",
     "text": [
      "Average Loss: 3.115, Accuracy: 11.480%\n"
     ]
    },
    {
     "data": {
      "application/vnd.jupyter.widget-view+json": {
       "model_id": "b599849fc2784217abb79b46d2292fde",
       "version_major": 2,
       "version_minor": 0
      },
      "text/plain": [
       "HBox(children=(FloatProgress(value=0.0, max=30.0), HTML(value='')))"
      ]
     },
     "metadata": {},
     "output_type": "display_data"
    },
    {
     "data": {
      "application/vnd.jupyter.widget-view+json": {
       "model_id": "",
       "version_major": 2,
       "version_minor": 0
      },
      "text/plain": [
       "HBox(children=(FloatProgress(value=0.0), HTML(value='')))"
      ]
     },
     "metadata": {},
     "output_type": "display_data"
    },
    {
     "data": {
      "application/vnd.jupyter.widget-view+json": {
       "model_id": "",
       "version_major": 2,
       "version_minor": 0
      },
      "text/plain": [
       "HBox(children=(FloatProgress(value=0.0, max=10.0), HTML(value='')))"
      ]
     },
     "metadata": {},
     "output_type": "display_data"
    },
    {
     "name": "stdout",
     "output_type": "stream",
     "text": [
      "Average Loss: 2.136, Accuracy: 19.140%\n"
     ]
    },
    {
     "data": {
      "application/vnd.jupyter.widget-view+json": {
       "model_id": "",
       "version_major": 2,
       "version_minor": 0
      },
      "text/plain": [
       "HBox(children=(FloatProgress(value=0.0), HTML(value='')))"
      ]
     },
     "metadata": {},
     "output_type": "display_data"
    },
    {
     "data": {
      "application/vnd.jupyter.widget-view+json": {
       "model_id": "",
       "version_major": 2,
       "version_minor": 0
      },
      "text/plain": [
       "HBox(children=(FloatProgress(value=0.0, max=10.0), HTML(value='')))"
      ]
     },
     "metadata": {},
     "output_type": "display_data"
    },
    {
     "name": "stdout",
     "output_type": "stream",
     "text": [
      "Average Loss: 1.991, Accuracy: 24.700%\n"
     ]
    },
    {
     "data": {
      "application/vnd.jupyter.widget-view+json": {
       "model_id": "",
       "version_major": 2,
       "version_minor": 0
      },
      "text/plain": [
       "HBox(children=(FloatProgress(value=0.0), HTML(value='')))"
      ]
     },
     "metadata": {},
     "output_type": "display_data"
    },
    {
     "data": {
      "application/vnd.jupyter.widget-view+json": {
       "model_id": "",
       "version_major": 2,
       "version_minor": 0
      },
      "text/plain": [
       "HBox(children=(FloatProgress(value=0.0, max=10.0), HTML(value='')))"
      ]
     },
     "metadata": {},
     "output_type": "display_data"
    },
    {
     "name": "stdout",
     "output_type": "stream",
     "text": [
      "Average Loss: 1.891, Accuracy: 27.290%\n"
     ]
    },
    {
     "data": {
      "application/vnd.jupyter.widget-view+json": {
       "model_id": "",
       "version_major": 2,
       "version_minor": 0
      },
      "text/plain": [
       "HBox(children=(FloatProgress(value=0.0), HTML(value='')))"
      ]
     },
     "metadata": {},
     "output_type": "display_data"
    },
    {
     "data": {
      "application/vnd.jupyter.widget-view+json": {
       "model_id": "",
       "version_major": 2,
       "version_minor": 0
      },
      "text/plain": [
       "HBox(children=(FloatProgress(value=0.0, max=10.0), HTML(value='')))"
      ]
     },
     "metadata": {},
     "output_type": "display_data"
    },
    {
     "name": "stdout",
     "output_type": "stream",
     "text": [
      "Average Loss: 1.830, Accuracy: 29.990%\n"
     ]
    },
    {
     "data": {
      "application/vnd.jupyter.widget-view+json": {
       "model_id": "",
       "version_major": 2,
       "version_minor": 0
      },
      "text/plain": [
       "HBox(children=(FloatProgress(value=0.0), HTML(value='')))"
      ]
     },
     "metadata": {},
     "output_type": "display_data"
    },
    {
     "data": {
      "application/vnd.jupyter.widget-view+json": {
       "model_id": "",
       "version_major": 2,
       "version_minor": 0
      },
      "text/plain": [
       "HBox(children=(FloatProgress(value=0.0, max=10.0), HTML(value='')))"
      ]
     },
     "metadata": {},
     "output_type": "display_data"
    },
    {
     "name": "stdout",
     "output_type": "stream",
     "text": [
      "Average Loss: 1.771, Accuracy: 32.200%\n"
     ]
    },
    {
     "data": {
      "application/vnd.jupyter.widget-view+json": {
       "model_id": "",
       "version_major": 2,
       "version_minor": 0
      },
      "text/plain": [
       "HBox(children=(FloatProgress(value=0.0), HTML(value='')))"
      ]
     },
     "metadata": {},
     "output_type": "display_data"
    },
    {
     "data": {
      "application/vnd.jupyter.widget-view+json": {
       "model_id": "",
       "version_major": 2,
       "version_minor": 0
      },
      "text/plain": [
       "HBox(children=(FloatProgress(value=0.0, max=10.0), HTML(value='')))"
      ]
     },
     "metadata": {},
     "output_type": "display_data"
    },
    {
     "name": "stdout",
     "output_type": "stream",
     "text": [
      "Average Loss: 1.743, Accuracy: 32.980%\n"
     ]
    },
    {
     "data": {
      "application/vnd.jupyter.widget-view+json": {
       "model_id": "",
       "version_major": 2,
       "version_minor": 0
      },
      "text/plain": [
       "HBox(children=(FloatProgress(value=0.0), HTML(value='')))"
      ]
     },
     "metadata": {},
     "output_type": "display_data"
    },
    {
     "data": {
      "application/vnd.jupyter.widget-view+json": {
       "model_id": "",
       "version_major": 2,
       "version_minor": 0
      },
      "text/plain": [
       "HBox(children=(FloatProgress(value=0.0, max=10.0), HTML(value='')))"
      ]
     },
     "metadata": {},
     "output_type": "display_data"
    },
    {
     "name": "stdout",
     "output_type": "stream",
     "text": [
      "Average Loss: 1.728, Accuracy: 34.460%\n"
     ]
    },
    {
     "data": {
      "application/vnd.jupyter.widget-view+json": {
       "model_id": "",
       "version_major": 2,
       "version_minor": 0
      },
      "text/plain": [
       "HBox(children=(FloatProgress(value=0.0), HTML(value='')))"
      ]
     },
     "metadata": {},
     "output_type": "display_data"
    },
    {
     "data": {
      "application/vnd.jupyter.widget-view+json": {
       "model_id": "",
       "version_major": 2,
       "version_minor": 0
      },
      "text/plain": [
       "HBox(children=(FloatProgress(value=0.0, max=10.0), HTML(value='')))"
      ]
     },
     "metadata": {},
     "output_type": "display_data"
    },
    {
     "name": "stdout",
     "output_type": "stream",
     "text": [
      "Average Loss: 1.702, Accuracy: 35.570%\n"
     ]
    },
    {
     "data": {
      "application/vnd.jupyter.widget-view+json": {
       "model_id": "484e52cf87e343ffb277cd371adf3f7f",
       "version_major": 2,
       "version_minor": 0
      },
      "text/plain": [
       "HBox(children=(FloatProgress(value=0.0), HTML(value='')))"
      ]
     },
     "metadata": {},
     "output_type": "display_data"
    },
    {
     "name": "stdout",
     "output_type": "stream",
     "text": [
      "\n"
     ]
    },
    {
     "ename": "RuntimeError",
     "evalue": "CUDA error: an illegal memory access was encountered",
     "output_type": "error",
     "traceback": [
      "\u001b[0;31m---------------------------------------------------------------------------\u001b[0m",
      "\u001b[0;31mRuntimeError\u001b[0m                              Traceback (most recent call last)",
      "\u001b[0;32m<ipython-input-7-18cc8ae730d9>\u001b[0m in \u001b[0;36m<module>\u001b[0;34m\u001b[0m\n\u001b[1;32m      1\u001b[0m \u001b[0mevaluate_model\u001b[0m\u001b[0;34m(\u001b[0m\u001b[0mnet\u001b[0m\u001b[0;34m,\u001b[0m \u001b[0mdl_test\u001b[0m\u001b[0;34m,\u001b[0m \u001b[0mdevice\u001b[0m\u001b[0;34m=\u001b[0m\u001b[0;34m'cuda'\u001b[0m\u001b[0;34m,\u001b[0m \u001b[0mverbose\u001b[0m\u001b[0;34m=\u001b[0m\u001b[0;32mTrue\u001b[0m\u001b[0;34m)\u001b[0m\u001b[0;34m\u001b[0m\u001b[0;34m\u001b[0m\u001b[0m\n\u001b[0;32m----> 2\u001b[0;31m \u001b[0mtrain_classification_model\u001b[0m\u001b[0;34m(\u001b[0m\u001b[0mnet\u001b[0m\u001b[0;34m,\u001b[0m \u001b[0mdl_train\u001b[0m\u001b[0;34m,\u001b[0m \u001b[0mn_epochs\u001b[0m\u001b[0;34m=\u001b[0m\u001b[0;36m30\u001b[0m\u001b[0;34m,\u001b[0m \u001b[0mdevice\u001b[0m\u001b[0;34m=\u001b[0m\u001b[0;34m'cuda'\u001b[0m\u001b[0;34m)\u001b[0m\u001b[0;34m\u001b[0m\u001b[0;34m\u001b[0m\u001b[0m\n\u001b[0m\u001b[1;32m      3\u001b[0m \u001b[0mevaluate_model\u001b[0m\u001b[0;34m(\u001b[0m\u001b[0mnet\u001b[0m\u001b[0;34m,\u001b[0m \u001b[0mdl_test\u001b[0m\u001b[0;34m,\u001b[0m \u001b[0mdevice\u001b[0m\u001b[0;34m=\u001b[0m\u001b[0;34m'cuda'\u001b[0m\u001b[0;34m,\u001b[0m \u001b[0mverbose\u001b[0m\u001b[0;34m=\u001b[0m\u001b[0;32mTrue\u001b[0m\u001b[0;34m)\u001b[0m\u001b[0;34m\u001b[0m\u001b[0;34m\u001b[0m\u001b[0m\n",
      "\u001b[0;32m<ipython-input-6-cb2b4b48a9ca>\u001b[0m in \u001b[0;36mtrain_classification_model\u001b[0;34m(net, dl, n_epochs, device)\u001b[0m\n\u001b[1;32m     40\u001b[0m \u001b[0;34m\u001b[0m\u001b[0m\n\u001b[1;32m     41\u001b[0m             \u001b[0mopt\u001b[0m\u001b[0;34m.\u001b[0m\u001b[0mzero_grad\u001b[0m\u001b[0;34m(\u001b[0m\u001b[0;34m)\u001b[0m\u001b[0;34m\u001b[0m\u001b[0;34m\u001b[0m\u001b[0m\n\u001b[0;32m---> 42\u001b[0;31m             \u001b[0mloss\u001b[0m\u001b[0;34m.\u001b[0m\u001b[0mbackward\u001b[0m\u001b[0;34m(\u001b[0m\u001b[0;34m)\u001b[0m\u001b[0;34m\u001b[0m\u001b[0;34m\u001b[0m\u001b[0m\n\u001b[0m\u001b[1;32m     43\u001b[0m             \u001b[0mopt\u001b[0m\u001b[0;34m.\u001b[0m\u001b[0mstep\u001b[0m\u001b[0;34m(\u001b[0m\u001b[0;34m)\u001b[0m\u001b[0;34m\u001b[0m\u001b[0;34m\u001b[0m\u001b[0m\n\u001b[1;32m     44\u001b[0m         \u001b[0mevaluate_model\u001b[0m\u001b[0;34m(\u001b[0m\u001b[0mnet\u001b[0m\u001b[0;34m,\u001b[0m \u001b[0mdl_test\u001b[0m\u001b[0;34m,\u001b[0m \u001b[0mdevice\u001b[0m\u001b[0;34m=\u001b[0m\u001b[0;34m'cuda'\u001b[0m\u001b[0;34m,\u001b[0m \u001b[0mverbose\u001b[0m\u001b[0;34m=\u001b[0m\u001b[0;32mTrue\u001b[0m\u001b[0;34m)\u001b[0m\u001b[0;34m\u001b[0m\u001b[0;34m\u001b[0m\u001b[0m\n",
      "\u001b[0;32m~/.local/lib/python3.7/site-packages/torch/tensor.py\u001b[0m in \u001b[0;36mbackward\u001b[0;34m(self, gradient, retain_graph, create_graph, inputs)\u001b[0m\n\u001b[1;32m    243\u001b[0m                 \u001b[0mcreate_graph\u001b[0m\u001b[0;34m=\u001b[0m\u001b[0mcreate_graph\u001b[0m\u001b[0;34m,\u001b[0m\u001b[0;34m\u001b[0m\u001b[0;34m\u001b[0m\u001b[0m\n\u001b[1;32m    244\u001b[0m                 inputs=inputs)\n\u001b[0;32m--> 245\u001b[0;31m         \u001b[0mtorch\u001b[0m\u001b[0;34m.\u001b[0m\u001b[0mautograd\u001b[0m\u001b[0;34m.\u001b[0m\u001b[0mbackward\u001b[0m\u001b[0;34m(\u001b[0m\u001b[0mself\u001b[0m\u001b[0;34m,\u001b[0m \u001b[0mgradient\u001b[0m\u001b[0;34m,\u001b[0m \u001b[0mretain_graph\u001b[0m\u001b[0;34m,\u001b[0m \u001b[0mcreate_graph\u001b[0m\u001b[0;34m,\u001b[0m \u001b[0minputs\u001b[0m\u001b[0;34m=\u001b[0m\u001b[0minputs\u001b[0m\u001b[0;34m)\u001b[0m\u001b[0;34m\u001b[0m\u001b[0;34m\u001b[0m\u001b[0m\n\u001b[0m\u001b[1;32m    246\u001b[0m \u001b[0;34m\u001b[0m\u001b[0m\n\u001b[1;32m    247\u001b[0m     \u001b[0;32mdef\u001b[0m \u001b[0mregister_hook\u001b[0m\u001b[0;34m(\u001b[0m\u001b[0mself\u001b[0m\u001b[0;34m,\u001b[0m \u001b[0mhook\u001b[0m\u001b[0;34m)\u001b[0m\u001b[0;34m:\u001b[0m\u001b[0;34m\u001b[0m\u001b[0;34m\u001b[0m\u001b[0m\n",
      "\u001b[0;32m~/.local/lib/python3.7/site-packages/torch/autograd/__init__.py\u001b[0m in \u001b[0;36mbackward\u001b[0;34m(tensors, grad_tensors, retain_graph, create_graph, grad_variables, inputs)\u001b[0m\n\u001b[1;32m    145\u001b[0m     Variable._execution_engine.run_backward(\n\u001b[1;32m    146\u001b[0m         \u001b[0mtensors\u001b[0m\u001b[0;34m,\u001b[0m \u001b[0mgrad_tensors_\u001b[0m\u001b[0;34m,\u001b[0m \u001b[0mretain_graph\u001b[0m\u001b[0;34m,\u001b[0m \u001b[0mcreate_graph\u001b[0m\u001b[0;34m,\u001b[0m \u001b[0minputs\u001b[0m\u001b[0;34m,\u001b[0m\u001b[0;34m\u001b[0m\u001b[0;34m\u001b[0m\u001b[0m\n\u001b[0;32m--> 147\u001b[0;31m         allow_unreachable=True, accumulate_grad=True)  # allow_unreachable flag\n\u001b[0m\u001b[1;32m    148\u001b[0m \u001b[0;34m\u001b[0m\u001b[0m\n\u001b[1;32m    149\u001b[0m \u001b[0;34m\u001b[0m\u001b[0m\n",
      "\u001b[0;31mRuntimeError\u001b[0m: CUDA error: an illegal memory access was encountered"
     ]
    }
   ],
   "source": [
    "evaluate_model(net, dl_test, device='cuda', verbose=True)\n",
    "train_classification_model(net, dl_train, n_epochs=30, device='cuda')\n",
    "evaluate_model(net, dl_test, device='cuda', verbose=True)"
   ]
  },
  {
   "cell_type": "markdown",
   "metadata": {},
   "source": [
    "# My MLP mixer implementation:"
   ]
  },
  {
   "cell_type": "code",
   "execution_count": 37,
   "metadata": {},
   "outputs": [
    {
     "data": {
      "application/vnd.jupyter.widget-view+json": {
       "model_id": "",
       "version_major": 2,
       "version_minor": 0
      },
      "text/plain": [
       "HBox(children=(FloatProgress(value=0.0, max=10.0), HTML(value='')))"
      ]
     },
     "metadata": {},
     "output_type": "display_data"
    },
    {
     "name": "stdout",
     "output_type": "stream",
     "text": [
      "Average Loss: 2.332, Accuracy: 12.790%\n"
     ]
    },
    {
     "data": {
      "application/vnd.jupyter.widget-view+json": {
       "model_id": "752f338b78a44f4794f6007958f8fac7",
       "version_major": 2,
       "version_minor": 0
      },
      "text/plain": [
       "HBox(children=(FloatProgress(value=0.0, max=30.0), HTML(value='')))"
      ]
     },
     "metadata": {},
     "output_type": "display_data"
    },
    {
     "data": {
      "application/vnd.jupyter.widget-view+json": {
       "model_id": "",
       "version_major": 2,
       "version_minor": 0
      },
      "text/plain": [
       "HBox(children=(FloatProgress(value=0.0), HTML(value='')))"
      ]
     },
     "metadata": {},
     "output_type": "display_data"
    },
    {
     "data": {
      "application/vnd.jupyter.widget-view+json": {
       "model_id": "",
       "version_major": 2,
       "version_minor": 0
      },
      "text/plain": [
       "HBox(children=(FloatProgress(value=0.0, max=10.0), HTML(value='')))"
      ]
     },
     "metadata": {},
     "output_type": "display_data"
    },
    {
     "name": "stdout",
     "output_type": "stream",
     "text": [
      "Average Loss: 1.495, Accuracy: 45.060%\n"
     ]
    },
    {
     "data": {
      "application/vnd.jupyter.widget-view+json": {
       "model_id": "",
       "version_major": 2,
       "version_minor": 0
      },
      "text/plain": [
       "HBox(children=(FloatProgress(value=0.0), HTML(value='')))"
      ]
     },
     "metadata": {},
     "output_type": "display_data"
    },
    {
     "data": {
      "application/vnd.jupyter.widget-view+json": {
       "model_id": "",
       "version_major": 2,
       "version_minor": 0
      },
      "text/plain": [
       "HBox(children=(FloatProgress(value=0.0, max=10.0), HTML(value='')))"
      ]
     },
     "metadata": {},
     "output_type": "display_data"
    },
    {
     "name": "stdout",
     "output_type": "stream",
     "text": [
      "Average Loss: 1.327, Accuracy: 52.160%\n"
     ]
    },
    {
     "data": {
      "application/vnd.jupyter.widget-view+json": {
       "model_id": "",
       "version_major": 2,
       "version_minor": 0
      },
      "text/plain": [
       "HBox(children=(FloatProgress(value=0.0), HTML(value='')))"
      ]
     },
     "metadata": {},
     "output_type": "display_data"
    },
    {
     "data": {
      "application/vnd.jupyter.widget-view+json": {
       "model_id": "",
       "version_major": 2,
       "version_minor": 0
      },
      "text/plain": [
       "HBox(children=(FloatProgress(value=0.0, max=10.0), HTML(value='')))"
      ]
     },
     "metadata": {},
     "output_type": "display_data"
    },
    {
     "name": "stdout",
     "output_type": "stream",
     "text": [
      "Average Loss: 1.228, Accuracy: 55.280%\n"
     ]
    },
    {
     "data": {
      "application/vnd.jupyter.widget-view+json": {
       "model_id": "",
       "version_major": 2,
       "version_minor": 0
      },
      "text/plain": [
       "HBox(children=(FloatProgress(value=0.0), HTML(value='')))"
      ]
     },
     "metadata": {},
     "output_type": "display_data"
    },
    {
     "data": {
      "application/vnd.jupyter.widget-view+json": {
       "model_id": "",
       "version_major": 2,
       "version_minor": 0
      },
      "text/plain": [
       "HBox(children=(FloatProgress(value=0.0, max=10.0), HTML(value='')))"
      ]
     },
     "metadata": {},
     "output_type": "display_data"
    },
    {
     "name": "stdout",
     "output_type": "stream",
     "text": [
      "Average Loss: 1.182, Accuracy: 56.240%\n"
     ]
    },
    {
     "data": {
      "application/vnd.jupyter.widget-view+json": {
       "model_id": "",
       "version_major": 2,
       "version_minor": 0
      },
      "text/plain": [
       "HBox(children=(FloatProgress(value=0.0), HTML(value='')))"
      ]
     },
     "metadata": {},
     "output_type": "display_data"
    },
    {
     "data": {
      "application/vnd.jupyter.widget-view+json": {
       "model_id": "",
       "version_major": 2,
       "version_minor": 0
      },
      "text/plain": [
       "HBox(children=(FloatProgress(value=0.0, max=10.0), HTML(value='')))"
      ]
     },
     "metadata": {},
     "output_type": "display_data"
    },
    {
     "name": "stdout",
     "output_type": "stream",
     "text": [
      "Average Loss: 1.144, Accuracy: 58.880%\n"
     ]
    },
    {
     "data": {
      "application/vnd.jupyter.widget-view+json": {
       "model_id": "",
       "version_major": 2,
       "version_minor": 0
      },
      "text/plain": [
       "HBox(children=(FloatProgress(value=0.0), HTML(value='')))"
      ]
     },
     "metadata": {},
     "output_type": "display_data"
    },
    {
     "data": {
      "application/vnd.jupyter.widget-view+json": {
       "model_id": "",
       "version_major": 2,
       "version_minor": 0
      },
      "text/plain": [
       "HBox(children=(FloatProgress(value=0.0, max=10.0), HTML(value='')))"
      ]
     },
     "metadata": {},
     "output_type": "display_data"
    },
    {
     "name": "stdout",
     "output_type": "stream",
     "text": [
      "Average Loss: 1.172, Accuracy: 58.430%\n"
     ]
    },
    {
     "data": {
      "application/vnd.jupyter.widget-view+json": {
       "model_id": "",
       "version_major": 2,
       "version_minor": 0
      },
      "text/plain": [
       "HBox(children=(FloatProgress(value=0.0), HTML(value='')))"
      ]
     },
     "metadata": {},
     "output_type": "display_data"
    },
    {
     "data": {
      "application/vnd.jupyter.widget-view+json": {
       "model_id": "",
       "version_major": 2,
       "version_minor": 0
      },
      "text/plain": [
       "HBox(children=(FloatProgress(value=0.0, max=10.0), HTML(value='')))"
      ]
     },
     "metadata": {},
     "output_type": "display_data"
    },
    {
     "name": "stdout",
     "output_type": "stream",
     "text": [
      "Average Loss: 1.158, Accuracy: 59.030%\n"
     ]
    },
    {
     "data": {
      "application/vnd.jupyter.widget-view+json": {
       "model_id": "",
       "version_major": 2,
       "version_minor": 0
      },
      "text/plain": [
       "HBox(children=(FloatProgress(value=0.0), HTML(value='')))"
      ]
     },
     "metadata": {},
     "output_type": "display_data"
    },
    {
     "data": {
      "application/vnd.jupyter.widget-view+json": {
       "model_id": "",
       "version_major": 2,
       "version_minor": 0
      },
      "text/plain": [
       "HBox(children=(FloatProgress(value=0.0, max=10.0), HTML(value='')))"
      ]
     },
     "metadata": {},
     "output_type": "display_data"
    },
    {
     "name": "stdout",
     "output_type": "stream",
     "text": [
      "Average Loss: 1.201, Accuracy: 58.810%\n"
     ]
    },
    {
     "data": {
      "application/vnd.jupyter.widget-view+json": {
       "model_id": "a9db3f97261c4ed5a908e849d29237e2",
       "version_major": 2,
       "version_minor": 0
      },
      "text/plain": [
       "HBox(children=(FloatProgress(value=0.0), HTML(value='')))"
      ]
     },
     "metadata": {},
     "output_type": "display_data"
    },
    {
     "name": "stderr",
     "output_type": "stream",
     "text": [
      "Exception ignored in: <generator object tqdm.__iter__ at 0x7f14e0699350>\n",
      "Traceback (most recent call last):\n",
      "  File \"/home/akarshkumar0101/.local/lib/python3.7/site-packages/tqdm/std.py\", line 1183, in __iter__\n",
      "    self.close()\n",
      "  File \"/home/akarshkumar0101/.local/lib/python3.7/site-packages/tqdm/notebook.py\", line 251, in close\n",
      "    super(tqdm_notebook, self).close(*args, **kwargs)\n",
      "  File \"/home/akarshkumar0101/.local/lib/python3.7/site-packages/tqdm/std.py\", line 1271, in close\n",
      "    self._decr_instances(self)\n",
      "  File \"/home/akarshkumar0101/.local/lib/python3.7/site-packages/tqdm/std.py\", line 572, in _decr_instances\n",
      "    cls.monitor.exit()\n",
      "  File \"/home/akarshkumar0101/.local/lib/python3.7/site-packages/tqdm/_monitor.py\", line 53, in exit\n",
      "    self.join()\n",
      "  File \"/usr/lib/python3.7/threading.py\", line 1044, in join\n",
      "    self._wait_for_tstate_lock()\n",
      "  File \"/usr/lib/python3.7/threading.py\", line 1060, in _wait_for_tstate_lock\n",
      "    elif lock.acquire(block, timeout):\n",
      "KeyboardInterrupt: \n"
     ]
    },
    {
     "ename": "RuntimeError",
     "evalue": "CUDA error: an illegal memory access was encountered",
     "output_type": "error",
     "traceback": [
      "\u001b[0;31m---------------------------------------------------------------------------\u001b[0m",
      "\u001b[0;31mRuntimeError\u001b[0m                              Traceback (most recent call last)",
      "\u001b[0;32m<ipython-input-37-18cc8ae730d9>\u001b[0m in \u001b[0;36m<module>\u001b[0;34m\u001b[0m\n\u001b[1;32m      1\u001b[0m \u001b[0mevaluate_model\u001b[0m\u001b[0;34m(\u001b[0m\u001b[0mnet\u001b[0m\u001b[0;34m,\u001b[0m \u001b[0mdl_test\u001b[0m\u001b[0;34m,\u001b[0m \u001b[0mdevice\u001b[0m\u001b[0;34m=\u001b[0m\u001b[0;34m'cuda'\u001b[0m\u001b[0;34m,\u001b[0m \u001b[0mverbose\u001b[0m\u001b[0;34m=\u001b[0m\u001b[0;32mTrue\u001b[0m\u001b[0;34m)\u001b[0m\u001b[0;34m\u001b[0m\u001b[0;34m\u001b[0m\u001b[0m\n\u001b[0;32m----> 2\u001b[0;31m \u001b[0mtrain_classification_model\u001b[0m\u001b[0;34m(\u001b[0m\u001b[0mnet\u001b[0m\u001b[0;34m,\u001b[0m \u001b[0mdl_train\u001b[0m\u001b[0;34m,\u001b[0m \u001b[0mn_epochs\u001b[0m\u001b[0;34m=\u001b[0m\u001b[0;36m30\u001b[0m\u001b[0;34m,\u001b[0m \u001b[0mdevice\u001b[0m\u001b[0;34m=\u001b[0m\u001b[0;34m'cuda'\u001b[0m\u001b[0;34m)\u001b[0m\u001b[0;34m\u001b[0m\u001b[0;34m\u001b[0m\u001b[0m\n\u001b[0m\u001b[1;32m      3\u001b[0m \u001b[0mevaluate_model\u001b[0m\u001b[0;34m(\u001b[0m\u001b[0mnet\u001b[0m\u001b[0;34m,\u001b[0m \u001b[0mdl_test\u001b[0m\u001b[0;34m,\u001b[0m \u001b[0mdevice\u001b[0m\u001b[0;34m=\u001b[0m\u001b[0;34m'cuda'\u001b[0m\u001b[0;34m,\u001b[0m \u001b[0mverbose\u001b[0m\u001b[0;34m=\u001b[0m\u001b[0;32mTrue\u001b[0m\u001b[0;34m)\u001b[0m\u001b[0;34m\u001b[0m\u001b[0;34m\u001b[0m\u001b[0m\n",
      "\u001b[0;32m<ipython-input-31-561abd026dbd>\u001b[0m in \u001b[0;36mtrain_classification_model\u001b[0;34m(net, dl, n_epochs, device)\u001b[0m\n\u001b[1;32m     40\u001b[0m \u001b[0;34m\u001b[0m\u001b[0m\n\u001b[1;32m     41\u001b[0m             \u001b[0mopt\u001b[0m\u001b[0;34m.\u001b[0m\u001b[0mzero_grad\u001b[0m\u001b[0;34m(\u001b[0m\u001b[0;34m)\u001b[0m\u001b[0;34m\u001b[0m\u001b[0;34m\u001b[0m\u001b[0m\n\u001b[0;32m---> 42\u001b[0;31m             \u001b[0mloss\u001b[0m\u001b[0;34m.\u001b[0m\u001b[0mbackward\u001b[0m\u001b[0;34m(\u001b[0m\u001b[0;34m)\u001b[0m\u001b[0;34m\u001b[0m\u001b[0;34m\u001b[0m\u001b[0m\n\u001b[0m\u001b[1;32m     43\u001b[0m             \u001b[0mopt\u001b[0m\u001b[0;34m.\u001b[0m\u001b[0mstep\u001b[0m\u001b[0;34m(\u001b[0m\u001b[0;34m)\u001b[0m\u001b[0;34m\u001b[0m\u001b[0;34m\u001b[0m\u001b[0m\n\u001b[1;32m     44\u001b[0m         \u001b[0mevaluate_model\u001b[0m\u001b[0;34m(\u001b[0m\u001b[0mnet\u001b[0m\u001b[0;34m,\u001b[0m \u001b[0mdl_test\u001b[0m\u001b[0;34m,\u001b[0m \u001b[0mdevice\u001b[0m\u001b[0;34m=\u001b[0m\u001b[0;34m'cuda'\u001b[0m\u001b[0;34m,\u001b[0m \u001b[0mverbose\u001b[0m\u001b[0;34m=\u001b[0m\u001b[0;32mTrue\u001b[0m\u001b[0;34m)\u001b[0m\u001b[0;34m\u001b[0m\u001b[0;34m\u001b[0m\u001b[0m\n",
      "\u001b[0;32m~/.local/lib/python3.7/site-packages/torch/tensor.py\u001b[0m in \u001b[0;36mbackward\u001b[0;34m(self, gradient, retain_graph, create_graph, inputs)\u001b[0m\n\u001b[1;32m    243\u001b[0m                 \u001b[0mcreate_graph\u001b[0m\u001b[0;34m=\u001b[0m\u001b[0mcreate_graph\u001b[0m\u001b[0;34m,\u001b[0m\u001b[0;34m\u001b[0m\u001b[0;34m\u001b[0m\u001b[0m\n\u001b[1;32m    244\u001b[0m                 inputs=inputs)\n\u001b[0;32m--> 245\u001b[0;31m         \u001b[0mtorch\u001b[0m\u001b[0;34m.\u001b[0m\u001b[0mautograd\u001b[0m\u001b[0;34m.\u001b[0m\u001b[0mbackward\u001b[0m\u001b[0;34m(\u001b[0m\u001b[0mself\u001b[0m\u001b[0;34m,\u001b[0m \u001b[0mgradient\u001b[0m\u001b[0;34m,\u001b[0m \u001b[0mretain_graph\u001b[0m\u001b[0;34m,\u001b[0m \u001b[0mcreate_graph\u001b[0m\u001b[0;34m,\u001b[0m \u001b[0minputs\u001b[0m\u001b[0;34m=\u001b[0m\u001b[0minputs\u001b[0m\u001b[0;34m)\u001b[0m\u001b[0;34m\u001b[0m\u001b[0;34m\u001b[0m\u001b[0m\n\u001b[0m\u001b[1;32m    246\u001b[0m \u001b[0;34m\u001b[0m\u001b[0m\n\u001b[1;32m    247\u001b[0m     \u001b[0;32mdef\u001b[0m \u001b[0mregister_hook\u001b[0m\u001b[0;34m(\u001b[0m\u001b[0mself\u001b[0m\u001b[0;34m,\u001b[0m \u001b[0mhook\u001b[0m\u001b[0;34m)\u001b[0m\u001b[0;34m:\u001b[0m\u001b[0;34m\u001b[0m\u001b[0;34m\u001b[0m\u001b[0m\n",
      "\u001b[0;32m~/.local/lib/python3.7/site-packages/torch/autograd/__init__.py\u001b[0m in \u001b[0;36mbackward\u001b[0;34m(tensors, grad_tensors, retain_graph, create_graph, grad_variables, inputs)\u001b[0m\n\u001b[1;32m    145\u001b[0m     Variable._execution_engine.run_backward(\n\u001b[1;32m    146\u001b[0m         \u001b[0mtensors\u001b[0m\u001b[0;34m,\u001b[0m \u001b[0mgrad_tensors_\u001b[0m\u001b[0;34m,\u001b[0m \u001b[0mretain_graph\u001b[0m\u001b[0;34m,\u001b[0m \u001b[0mcreate_graph\u001b[0m\u001b[0;34m,\u001b[0m \u001b[0minputs\u001b[0m\u001b[0;34m,\u001b[0m\u001b[0;34m\u001b[0m\u001b[0;34m\u001b[0m\u001b[0m\n\u001b[0;32m--> 147\u001b[0;31m         allow_unreachable=True, accumulate_grad=True)  # allow_unreachable flag\n\u001b[0m\u001b[1;32m    148\u001b[0m \u001b[0;34m\u001b[0m\u001b[0m\n\u001b[1;32m    149\u001b[0m \u001b[0;34m\u001b[0m\u001b[0m\n",
      "\u001b[0;31mRuntimeError\u001b[0m: CUDA error: an illegal memory access was encountered"
     ]
    }
   ],
   "source": [
    "evaluate_model(net, dl_test, device='cuda', verbose=True)\n",
    "train_classification_model(net, dl_train, n_epochs=30, device='cuda')\n",
    "evaluate_model(net, dl_test, device='cuda', verbose=True)"
   ]
  },
  {
   "cell_type": "markdown",
   "metadata": {},
   "source": [
    "# other MLP mixer implementation:"
   ]
  },
  {
   "cell_type": "code",
   "execution_count": 31,
   "metadata": {},
   "outputs": [
    {
     "data": {
      "application/vnd.jupyter.widget-view+json": {
       "model_id": "",
       "version_major": 2,
       "version_minor": 0
      },
      "text/plain": [
       "HBox(children=(FloatProgress(value=0.0, max=10.0), HTML(value='')))"
      ]
     },
     "metadata": {},
     "output_type": "display_data"
    },
    {
     "name": "stdout",
     "output_type": "stream",
     "text": [
      "Average Loss: 2.321, Accuracy: 10.670%\n"
     ]
    },
    {
     "data": {
      "application/vnd.jupyter.widget-view+json": {
       "model_id": "59403f6c0857485fbffbe4292361de8d",
       "version_major": 2,
       "version_minor": 0
      },
      "text/plain": [
       "HBox(children=(FloatProgress(value=0.0, max=30.0), HTML(value='')))"
      ]
     },
     "metadata": {},
     "output_type": "display_data"
    },
    {
     "data": {
      "application/vnd.jupyter.widget-view+json": {
       "model_id": "",
       "version_major": 2,
       "version_minor": 0
      },
      "text/plain": [
       "HBox(children=(FloatProgress(value=0.0), HTML(value='')))"
      ]
     },
     "metadata": {},
     "output_type": "display_data"
    },
    {
     "data": {
      "application/vnd.jupyter.widget-view+json": {
       "model_id": "",
       "version_major": 2,
       "version_minor": 0
      },
      "text/plain": [
       "HBox(children=(FloatProgress(value=0.0, max=10.0), HTML(value='')))"
      ]
     },
     "metadata": {},
     "output_type": "display_data"
    },
    {
     "name": "stdout",
     "output_type": "stream",
     "text": [
      "Average Loss: 1.558, Accuracy: 43.110%\n"
     ]
    },
    {
     "data": {
      "application/vnd.jupyter.widget-view+json": {
       "model_id": "",
       "version_major": 2,
       "version_minor": 0
      },
      "text/plain": [
       "HBox(children=(FloatProgress(value=0.0), HTML(value='')))"
      ]
     },
     "metadata": {},
     "output_type": "display_data"
    },
    {
     "data": {
      "application/vnd.jupyter.widget-view+json": {
       "model_id": "",
       "version_major": 2,
       "version_minor": 0
      },
      "text/plain": [
       "HBox(children=(FloatProgress(value=0.0, max=10.0), HTML(value='')))"
      ]
     },
     "metadata": {},
     "output_type": "display_data"
    },
    {
     "name": "stdout",
     "output_type": "stream",
     "text": [
      "Average Loss: 1.394, Accuracy: 49.060%\n"
     ]
    },
    {
     "data": {
      "application/vnd.jupyter.widget-view+json": {
       "model_id": "",
       "version_major": 2,
       "version_minor": 0
      },
      "text/plain": [
       "HBox(children=(FloatProgress(value=0.0), HTML(value='')))"
      ]
     },
     "metadata": {},
     "output_type": "display_data"
    },
    {
     "data": {
      "application/vnd.jupyter.widget-view+json": {
       "model_id": "",
       "version_major": 2,
       "version_minor": 0
      },
      "text/plain": [
       "HBox(children=(FloatProgress(value=0.0, max=10.0), HTML(value='')))"
      ]
     },
     "metadata": {},
     "output_type": "display_data"
    },
    {
     "name": "stdout",
     "output_type": "stream",
     "text": [
      "Average Loss: 1.285, Accuracy: 54.020%\n"
     ]
    },
    {
     "data": {
      "application/vnd.jupyter.widget-view+json": {
       "model_id": "",
       "version_major": 2,
       "version_minor": 0
      },
      "text/plain": [
       "HBox(children=(FloatProgress(value=0.0), HTML(value='')))"
      ]
     },
     "metadata": {},
     "output_type": "display_data"
    },
    {
     "data": {
      "application/vnd.jupyter.widget-view+json": {
       "model_id": "",
       "version_major": 2,
       "version_minor": 0
      },
      "text/plain": [
       "HBox(children=(FloatProgress(value=0.0, max=10.0), HTML(value='')))"
      ]
     },
     "metadata": {},
     "output_type": "display_data"
    },
    {
     "name": "stdout",
     "output_type": "stream",
     "text": [
      "Average Loss: 1.238, Accuracy: 55.350%\n"
     ]
    },
    {
     "data": {
      "application/vnd.jupyter.widget-view+json": {
       "model_id": "",
       "version_major": 2,
       "version_minor": 0
      },
      "text/plain": [
       "HBox(children=(FloatProgress(value=0.0), HTML(value='')))"
      ]
     },
     "metadata": {},
     "output_type": "display_data"
    },
    {
     "data": {
      "application/vnd.jupyter.widget-view+json": {
       "model_id": "",
       "version_major": 2,
       "version_minor": 0
      },
      "text/plain": [
       "HBox(children=(FloatProgress(value=0.0, max=10.0), HTML(value='')))"
      ]
     },
     "metadata": {},
     "output_type": "display_data"
    },
    {
     "name": "stdout",
     "output_type": "stream",
     "text": [
      "Average Loss: 1.204, Accuracy: 56.900%\n"
     ]
    },
    {
     "data": {
      "application/vnd.jupyter.widget-view+json": {
       "model_id": "",
       "version_major": 2,
       "version_minor": 0
      },
      "text/plain": [
       "HBox(children=(FloatProgress(value=0.0), HTML(value='')))"
      ]
     },
     "metadata": {},
     "output_type": "display_data"
    },
    {
     "data": {
      "application/vnd.jupyter.widget-view+json": {
       "model_id": "",
       "version_major": 2,
       "version_minor": 0
      },
      "text/plain": [
       "HBox(children=(FloatProgress(value=0.0, max=10.0), HTML(value='')))"
      ]
     },
     "metadata": {},
     "output_type": "display_data"
    },
    {
     "name": "stdout",
     "output_type": "stream",
     "text": [
      "Average Loss: 1.168, Accuracy: 58.750%\n"
     ]
    },
    {
     "data": {
      "application/vnd.jupyter.widget-view+json": {
       "model_id": "",
       "version_major": 2,
       "version_minor": 0
      },
      "text/plain": [
       "HBox(children=(FloatProgress(value=0.0), HTML(value='')))"
      ]
     },
     "metadata": {},
     "output_type": "display_data"
    },
    {
     "data": {
      "application/vnd.jupyter.widget-view+json": {
       "model_id": "",
       "version_major": 2,
       "version_minor": 0
      },
      "text/plain": [
       "HBox(children=(FloatProgress(value=0.0, max=10.0), HTML(value='')))"
      ]
     },
     "metadata": {},
     "output_type": "display_data"
    },
    {
     "name": "stdout",
     "output_type": "stream",
     "text": [
      "Average Loss: 1.136, Accuracy: 59.740%\n"
     ]
    },
    {
     "data": {
      "application/vnd.jupyter.widget-view+json": {
       "model_id": "",
       "version_major": 2,
       "version_minor": 0
      },
      "text/plain": [
       "HBox(children=(FloatProgress(value=0.0), HTML(value='')))"
      ]
     },
     "metadata": {},
     "output_type": "display_data"
    },
    {
     "data": {
      "application/vnd.jupyter.widget-view+json": {
       "model_id": "",
       "version_major": 2,
       "version_minor": 0
      },
      "text/plain": [
       "HBox(children=(FloatProgress(value=0.0, max=10.0), HTML(value='')))"
      ]
     },
     "metadata": {},
     "output_type": "display_data"
    },
    {
     "name": "stdout",
     "output_type": "stream",
     "text": [
      "Average Loss: 1.121, Accuracy: 60.520%\n"
     ]
    },
    {
     "data": {
      "application/vnd.jupyter.widget-view+json": {
       "model_id": "",
       "version_major": 2,
       "version_minor": 0
      },
      "text/plain": [
       "HBox(children=(FloatProgress(value=0.0), HTML(value='')))"
      ]
     },
     "metadata": {},
     "output_type": "display_data"
    },
    {
     "data": {
      "application/vnd.jupyter.widget-view+json": {
       "model_id": "",
       "version_major": 2,
       "version_minor": 0
      },
      "text/plain": [
       "HBox(children=(FloatProgress(value=0.0, max=10.0), HTML(value='')))"
      ]
     },
     "metadata": {},
     "output_type": "display_data"
    },
    {
     "name": "stdout",
     "output_type": "stream",
     "text": [
      "Average Loss: 1.134, Accuracy: 60.240%\n"
     ]
    },
    {
     "data": {
      "application/vnd.jupyter.widget-view+json": {
       "model_id": "",
       "version_major": 2,
       "version_minor": 0
      },
      "text/plain": [
       "HBox(children=(FloatProgress(value=0.0), HTML(value='')))"
      ]
     },
     "metadata": {},
     "output_type": "display_data"
    },
    {
     "data": {
      "application/vnd.jupyter.widget-view+json": {
       "model_id": "",
       "version_major": 2,
       "version_minor": 0
      },
      "text/plain": [
       "HBox(children=(FloatProgress(value=0.0, max=10.0), HTML(value='')))"
      ]
     },
     "metadata": {},
     "output_type": "display_data"
    },
    {
     "name": "stdout",
     "output_type": "stream",
     "text": [
      "Average Loss: 1.125, Accuracy: 60.510%\n"
     ]
    },
    {
     "data": {
      "application/vnd.jupyter.widget-view+json": {
       "model_id": "",
       "version_major": 2,
       "version_minor": 0
      },
      "text/plain": [
       "HBox(children=(FloatProgress(value=0.0), HTML(value='')))"
      ]
     },
     "metadata": {},
     "output_type": "display_data"
    },
    {
     "data": {
      "application/vnd.jupyter.widget-view+json": {
       "model_id": "",
       "version_major": 2,
       "version_minor": 0
      },
      "text/plain": [
       "HBox(children=(FloatProgress(value=0.0, max=10.0), HTML(value='')))"
      ]
     },
     "metadata": {},
     "output_type": "display_data"
    },
    {
     "name": "stdout",
     "output_type": "stream",
     "text": [
      "Average Loss: 1.145, Accuracy: 60.970%\n"
     ]
    },
    {
     "data": {
      "application/vnd.jupyter.widget-view+json": {
       "model_id": "",
       "version_major": 2,
       "version_minor": 0
      },
      "text/plain": [
       "HBox(children=(FloatProgress(value=0.0), HTML(value='')))"
      ]
     },
     "metadata": {},
     "output_type": "display_data"
    },
    {
     "data": {
      "application/vnd.jupyter.widget-view+json": {
       "model_id": "",
       "version_major": 2,
       "version_minor": 0
      },
      "text/plain": [
       "HBox(children=(FloatProgress(value=0.0, max=10.0), HTML(value='')))"
      ]
     },
     "metadata": {},
     "output_type": "display_data"
    },
    {
     "name": "stdout",
     "output_type": "stream",
     "text": [
      "Average Loss: 1.182, Accuracy: 60.740%\n"
     ]
    },
    {
     "data": {
      "application/vnd.jupyter.widget-view+json": {
       "model_id": "",
       "version_major": 2,
       "version_minor": 0
      },
      "text/plain": [
       "HBox(children=(FloatProgress(value=0.0), HTML(value='')))"
      ]
     },
     "metadata": {},
     "output_type": "display_data"
    },
    {
     "data": {
      "application/vnd.jupyter.widget-view+json": {
       "model_id": "",
       "version_major": 2,
       "version_minor": 0
      },
      "text/plain": [
       "HBox(children=(FloatProgress(value=0.0, max=10.0), HTML(value='')))"
      ]
     },
     "metadata": {},
     "output_type": "display_data"
    },
    {
     "name": "stdout",
     "output_type": "stream",
     "text": [
      "Average Loss: 1.172, Accuracy: 61.200%\n"
     ]
    },
    {
     "data": {
      "application/vnd.jupyter.widget-view+json": {
       "model_id": "",
       "version_major": 2,
       "version_minor": 0
      },
      "text/plain": [
       "HBox(children=(FloatProgress(value=0.0), HTML(value='')))"
      ]
     },
     "metadata": {},
     "output_type": "display_data"
    },
    {
     "data": {
      "application/vnd.jupyter.widget-view+json": {
       "model_id": "",
       "version_major": 2,
       "version_minor": 0
      },
      "text/plain": [
       "HBox(children=(FloatProgress(value=0.0, max=10.0), HTML(value='')))"
      ]
     },
     "metadata": {},
     "output_type": "display_data"
    },
    {
     "name": "stdout",
     "output_type": "stream",
     "text": [
      "Average Loss: 1.218, Accuracy: 60.010%\n"
     ]
    },
    {
     "data": {
      "application/vnd.jupyter.widget-view+json": {
       "model_id": "",
       "version_major": 2,
       "version_minor": 0
      },
      "text/plain": [
       "HBox(children=(FloatProgress(value=0.0), HTML(value='')))"
      ]
     },
     "metadata": {},
     "output_type": "display_data"
    },
    {
     "data": {
      "application/vnd.jupyter.widget-view+json": {
       "model_id": "",
       "version_major": 2,
       "version_minor": 0
      },
      "text/plain": [
       "HBox(children=(FloatProgress(value=0.0, max=10.0), HTML(value='')))"
      ]
     },
     "metadata": {},
     "output_type": "display_data"
    },
    {
     "name": "stdout",
     "output_type": "stream",
     "text": [
      "Average Loss: 1.285, Accuracy: 59.700%\n"
     ]
    },
    {
     "data": {
      "application/vnd.jupyter.widget-view+json": {
       "model_id": "fab9389554df408cba8497800c4995fa",
       "version_major": 2,
       "version_minor": 0
      },
      "text/plain": [
       "HBox(children=(FloatProgress(value=0.0), HTML(value='')))"
      ]
     },
     "metadata": {},
     "output_type": "display_data"
    },
    {
     "name": "stderr",
     "output_type": "stream",
     "text": [
      "Exception ignored in: <generator object tqdm.__iter__ at 0x7f148dcbaed0>\n",
      "Traceback (most recent call last):\n",
      "  File \"/home/akarshkumar0101/.local/lib/python3.7/site-packages/tqdm/std.py\", line 1183, in __iter__\n",
      "    self.close()\n",
      "  File \"/home/akarshkumar0101/.local/lib/python3.7/site-packages/tqdm/notebook.py\", line 251, in close\n",
      "    super(tqdm_notebook, self).close(*args, **kwargs)\n",
      "  File \"/home/akarshkumar0101/.local/lib/python3.7/site-packages/tqdm/std.py\", line 1271, in close\n",
      "    self._decr_instances(self)\n",
      "  File \"/home/akarshkumar0101/.local/lib/python3.7/site-packages/tqdm/std.py\", line 572, in _decr_instances\n",
      "    cls.monitor.exit()\n",
      "  File \"/home/akarshkumar0101/.local/lib/python3.7/site-packages/tqdm/_monitor.py\", line 53, in exit\n",
      "    self.join()\n",
      "  File \"/usr/lib/python3.7/threading.py\", line 1044, in join\n",
      "    self._wait_for_tstate_lock()\n",
      "  File \"/usr/lib/python3.7/threading.py\", line 1060, in _wait_for_tstate_lock\n",
      "    elif lock.acquire(block, timeout):\n",
      "KeyboardInterrupt: \n"
     ]
    },
    {
     "ename": "KeyboardInterrupt",
     "evalue": "",
     "output_type": "error",
     "traceback": [
      "\u001b[0;31m---------------------------------------------------------------------------\u001b[0m",
      "\u001b[0;31mKeyboardInterrupt\u001b[0m                         Traceback (most recent call last)",
      "\u001b[0;32m<ipython-input-31-561abd026dbd>\u001b[0m in \u001b[0;36m<module>\u001b[0;34m\u001b[0m\n\u001b[1;32m     45\u001b[0m \u001b[0;34m\u001b[0m\u001b[0m\n\u001b[1;32m     46\u001b[0m \u001b[0mevaluate_model\u001b[0m\u001b[0;34m(\u001b[0m\u001b[0mnet\u001b[0m\u001b[0;34m,\u001b[0m \u001b[0mdl_test\u001b[0m\u001b[0;34m,\u001b[0m \u001b[0mdevice\u001b[0m\u001b[0;34m=\u001b[0m\u001b[0;34m'cuda'\u001b[0m\u001b[0;34m,\u001b[0m \u001b[0mverbose\u001b[0m\u001b[0;34m=\u001b[0m\u001b[0;32mTrue\u001b[0m\u001b[0;34m)\u001b[0m\u001b[0;34m\u001b[0m\u001b[0;34m\u001b[0m\u001b[0m\n\u001b[0;32m---> 47\u001b[0;31m \u001b[0mtrain_classification_model\u001b[0m\u001b[0;34m(\u001b[0m\u001b[0mnet\u001b[0m\u001b[0;34m,\u001b[0m \u001b[0mdl_train\u001b[0m\u001b[0;34m,\u001b[0m \u001b[0mn_epochs\u001b[0m\u001b[0;34m=\u001b[0m\u001b[0;36m30\u001b[0m\u001b[0;34m,\u001b[0m \u001b[0mdevice\u001b[0m\u001b[0;34m=\u001b[0m\u001b[0;34m'cuda'\u001b[0m\u001b[0;34m)\u001b[0m\u001b[0;34m\u001b[0m\u001b[0;34m\u001b[0m\u001b[0m\n\u001b[0m\u001b[1;32m     48\u001b[0m \u001b[0mevaluate_model\u001b[0m\u001b[0;34m(\u001b[0m\u001b[0mnet\u001b[0m\u001b[0;34m,\u001b[0m \u001b[0mdl_test\u001b[0m\u001b[0;34m,\u001b[0m \u001b[0mdevice\u001b[0m\u001b[0;34m=\u001b[0m\u001b[0;34m'cuda'\u001b[0m\u001b[0;34m,\u001b[0m \u001b[0mverbose\u001b[0m\u001b[0;34m=\u001b[0m\u001b[0;32mTrue\u001b[0m\u001b[0;34m)\u001b[0m\u001b[0;34m\u001b[0m\u001b[0;34m\u001b[0m\u001b[0m\n",
      "\u001b[0;32m<ipython-input-31-561abd026dbd>\u001b[0m in \u001b[0;36mtrain_classification_model\u001b[0;34m(net, dl, n_epochs, device)\u001b[0m\n\u001b[1;32m     41\u001b[0m             \u001b[0mopt\u001b[0m\u001b[0;34m.\u001b[0m\u001b[0mzero_grad\u001b[0m\u001b[0;34m(\u001b[0m\u001b[0;34m)\u001b[0m\u001b[0;34m\u001b[0m\u001b[0;34m\u001b[0m\u001b[0m\n\u001b[1;32m     42\u001b[0m             \u001b[0mloss\u001b[0m\u001b[0;34m.\u001b[0m\u001b[0mbackward\u001b[0m\u001b[0;34m(\u001b[0m\u001b[0;34m)\u001b[0m\u001b[0;34m\u001b[0m\u001b[0;34m\u001b[0m\u001b[0m\n\u001b[0;32m---> 43\u001b[0;31m             \u001b[0mopt\u001b[0m\u001b[0;34m.\u001b[0m\u001b[0mstep\u001b[0m\u001b[0;34m(\u001b[0m\u001b[0;34m)\u001b[0m\u001b[0;34m\u001b[0m\u001b[0;34m\u001b[0m\u001b[0m\n\u001b[0m\u001b[1;32m     44\u001b[0m         \u001b[0mevaluate_model\u001b[0m\u001b[0;34m(\u001b[0m\u001b[0mnet\u001b[0m\u001b[0;34m,\u001b[0m \u001b[0mdl_test\u001b[0m\u001b[0;34m,\u001b[0m \u001b[0mdevice\u001b[0m\u001b[0;34m=\u001b[0m\u001b[0;34m'cuda'\u001b[0m\u001b[0;34m,\u001b[0m \u001b[0mverbose\u001b[0m\u001b[0;34m=\u001b[0m\u001b[0;32mTrue\u001b[0m\u001b[0;34m)\u001b[0m\u001b[0;34m\u001b[0m\u001b[0;34m\u001b[0m\u001b[0m\n\u001b[1;32m     45\u001b[0m \u001b[0;34m\u001b[0m\u001b[0m\n",
      "\u001b[0;32m~/.local/lib/python3.7/site-packages/torch/optim/optimizer.py\u001b[0m in \u001b[0;36mwrapper\u001b[0;34m(*args, **kwargs)\u001b[0m\n\u001b[1;32m     87\u001b[0m                 \u001b[0mprofile_name\u001b[0m \u001b[0;34m=\u001b[0m \u001b[0;34m\"Optimizer.step#{}.step\"\u001b[0m\u001b[0;34m.\u001b[0m\u001b[0mformat\u001b[0m\u001b[0;34m(\u001b[0m\u001b[0mobj\u001b[0m\u001b[0;34m.\u001b[0m\u001b[0m__class__\u001b[0m\u001b[0;34m.\u001b[0m\u001b[0m__name__\u001b[0m\u001b[0;34m)\u001b[0m\u001b[0;34m\u001b[0m\u001b[0;34m\u001b[0m\u001b[0m\n\u001b[1;32m     88\u001b[0m                 \u001b[0;32mwith\u001b[0m \u001b[0mtorch\u001b[0m\u001b[0;34m.\u001b[0m\u001b[0mautograd\u001b[0m\u001b[0;34m.\u001b[0m\u001b[0mprofiler\u001b[0m\u001b[0;34m.\u001b[0m\u001b[0mrecord_function\u001b[0m\u001b[0;34m(\u001b[0m\u001b[0mprofile_name\u001b[0m\u001b[0;34m)\u001b[0m\u001b[0;34m:\u001b[0m\u001b[0;34m\u001b[0m\u001b[0;34m\u001b[0m\u001b[0m\n\u001b[0;32m---> 89\u001b[0;31m                     \u001b[0;32mreturn\u001b[0m \u001b[0mfunc\u001b[0m\u001b[0;34m(\u001b[0m\u001b[0;34m*\u001b[0m\u001b[0margs\u001b[0m\u001b[0;34m,\u001b[0m \u001b[0;34m**\u001b[0m\u001b[0mkwargs\u001b[0m\u001b[0;34m)\u001b[0m\u001b[0;34m\u001b[0m\u001b[0;34m\u001b[0m\u001b[0m\n\u001b[0m\u001b[1;32m     90\u001b[0m             \u001b[0;32mreturn\u001b[0m \u001b[0mwrapper\u001b[0m\u001b[0;34m\u001b[0m\u001b[0;34m\u001b[0m\u001b[0m\n\u001b[1;32m     91\u001b[0m \u001b[0;34m\u001b[0m\u001b[0m\n",
      "\u001b[0;32m~/.local/lib/python3.7/site-packages/torch/autograd/grad_mode.py\u001b[0m in \u001b[0;36mdecorate_context\u001b[0;34m(*args, **kwargs)\u001b[0m\n\u001b[1;32m     25\u001b[0m         \u001b[0;32mdef\u001b[0m \u001b[0mdecorate_context\u001b[0m\u001b[0;34m(\u001b[0m\u001b[0;34m*\u001b[0m\u001b[0margs\u001b[0m\u001b[0;34m,\u001b[0m \u001b[0;34m**\u001b[0m\u001b[0mkwargs\u001b[0m\u001b[0;34m)\u001b[0m\u001b[0;34m:\u001b[0m\u001b[0;34m\u001b[0m\u001b[0;34m\u001b[0m\u001b[0m\n\u001b[1;32m     26\u001b[0m             \u001b[0;32mwith\u001b[0m \u001b[0mself\u001b[0m\u001b[0;34m.\u001b[0m\u001b[0m__class__\u001b[0m\u001b[0;34m(\u001b[0m\u001b[0;34m)\u001b[0m\u001b[0;34m:\u001b[0m\u001b[0;34m\u001b[0m\u001b[0;34m\u001b[0m\u001b[0m\n\u001b[0;32m---> 27\u001b[0;31m                 \u001b[0;32mreturn\u001b[0m \u001b[0mfunc\u001b[0m\u001b[0;34m(\u001b[0m\u001b[0;34m*\u001b[0m\u001b[0margs\u001b[0m\u001b[0;34m,\u001b[0m \u001b[0;34m**\u001b[0m\u001b[0mkwargs\u001b[0m\u001b[0;34m)\u001b[0m\u001b[0;34m\u001b[0m\u001b[0;34m\u001b[0m\u001b[0m\n\u001b[0m\u001b[1;32m     28\u001b[0m         \u001b[0;32mreturn\u001b[0m \u001b[0mcast\u001b[0m\u001b[0;34m(\u001b[0m\u001b[0mF\u001b[0m\u001b[0;34m,\u001b[0m \u001b[0mdecorate_context\u001b[0m\u001b[0;34m)\u001b[0m\u001b[0;34m\u001b[0m\u001b[0;34m\u001b[0m\u001b[0m\n\u001b[1;32m     29\u001b[0m \u001b[0;34m\u001b[0m\u001b[0m\n",
      "\u001b[0;32m~/.local/lib/python3.7/site-packages/torch/optim/adam.py\u001b[0m in \u001b[0;36mstep\u001b[0;34m(self, closure)\u001b[0m\n\u001b[1;32m    117\u001b[0m                    \u001b[0mgroup\u001b[0m\u001b[0;34m[\u001b[0m\u001b[0;34m'lr'\u001b[0m\u001b[0;34m]\u001b[0m\u001b[0;34m,\u001b[0m\u001b[0;34m\u001b[0m\u001b[0;34m\u001b[0m\u001b[0m\n\u001b[1;32m    118\u001b[0m                    \u001b[0mgroup\u001b[0m\u001b[0;34m[\u001b[0m\u001b[0;34m'weight_decay'\u001b[0m\u001b[0;34m]\u001b[0m\u001b[0;34m,\u001b[0m\u001b[0;34m\u001b[0m\u001b[0;34m\u001b[0m\u001b[0m\n\u001b[0;32m--> 119\u001b[0;31m                    group['eps'])\n\u001b[0m\u001b[1;32m    120\u001b[0m         \u001b[0;32mreturn\u001b[0m \u001b[0mloss\u001b[0m\u001b[0;34m\u001b[0m\u001b[0;34m\u001b[0m\u001b[0m\n",
      "\u001b[0;32m~/.local/lib/python3.7/site-packages/torch/optim/_functional.py\u001b[0m in \u001b[0;36madam\u001b[0;34m(params, grads, exp_avgs, exp_avg_sqs, max_exp_avg_sqs, state_steps, amsgrad, beta1, beta2, lr, weight_decay, eps)\u001b[0m\n\u001b[1;32m     94\u001b[0m         \u001b[0mstep_size\u001b[0m \u001b[0;34m=\u001b[0m \u001b[0mlr\u001b[0m \u001b[0;34m/\u001b[0m \u001b[0mbias_correction1\u001b[0m\u001b[0;34m\u001b[0m\u001b[0;34m\u001b[0m\u001b[0m\n\u001b[1;32m     95\u001b[0m \u001b[0;34m\u001b[0m\u001b[0m\n\u001b[0;32m---> 96\u001b[0;31m         \u001b[0mparam\u001b[0m\u001b[0;34m.\u001b[0m\u001b[0maddcdiv_\u001b[0m\u001b[0;34m(\u001b[0m\u001b[0mexp_avg\u001b[0m\u001b[0;34m,\u001b[0m \u001b[0mdenom\u001b[0m\u001b[0;34m,\u001b[0m \u001b[0mvalue\u001b[0m\u001b[0;34m=\u001b[0m\u001b[0;34m-\u001b[0m\u001b[0mstep_size\u001b[0m\u001b[0;34m)\u001b[0m\u001b[0;34m\u001b[0m\u001b[0;34m\u001b[0m\u001b[0m\n\u001b[0m\u001b[1;32m     97\u001b[0m \u001b[0;34m\u001b[0m\u001b[0m\n\u001b[1;32m     98\u001b[0m \u001b[0;34m\u001b[0m\u001b[0m\n",
      "\u001b[0;31mKeyboardInterrupt\u001b[0m: "
     ]
    }
   ],
   "source": [
    "evaluate_model(net, dl_test, device='cuda', verbose=True)\n",
    "train_classification_model(net, dl_train, n_epochs=30, device='cuda')\n",
    "evaluate_model(net, dl_test, device='cuda', verbose=True)"
   ]
  },
  {
   "cell_type": "code",
   "execution_count": 12,
   "metadata": {},
   "outputs": [
    {
     "data": {
      "application/vnd.jupyter.widget-view+json": {
       "model_id": "",
       "version_major": 2,
       "version_minor": 0
      },
      "text/plain": [
       "HBox(children=(FloatProgress(value=0.0), HTML(value='')))"
      ]
     },
     "metadata": {},
     "output_type": "display_data"
    },
    {
     "name": "stdout",
     "output_type": "stream",
     "text": [
      "Average Loss: 1.533, Accuracy: 43.722%\n"
     ]
    },
    {
     "data": {
      "text/plain": [
       "{'loss': 1.5325301897525787, 'accuracy': 43.722}"
      ]
     },
     "execution_count": 12,
     "metadata": {},
     "output_type": "execute_result"
    }
   ],
   "source": [
    "evaluate_model(net, dl_train, device='cuda', verbose=True)"
   ]
  },
  {
   "cell_type": "markdown",
   "metadata": {},
   "source": [
    "# TODO:\n",
    "\n",
    "to figure out why MLP-shaker isn't generalizing at it gets more dimensions,\n",
    "we need to figure out why MLP-shaker does nto perform as well as MLP-mixer.\n",
    "\n",
    "this is the same as figuring out why MLP-mixing does not perform as well as FC network.\n",
    "\n",
    "to do this, we can create high dimensional linear mapping X -> M -> Y.\n",
    "we can then fit to it a \n",
    "- linear model\n",
    "- mlp mixer\n",
    "- mlp shaker,\n",
    "- ...\n",
    "\n",
    "and see performance drop\n",
    "however we can also change the number of blocks in mlp mixer and mlp shaker and hopefully that will generalize better\n"
   ]
  },
  {
   "cell_type": "code",
   "execution_count": null,
   "metadata": {},
   "outputs": [],
   "source": []
  },
  {
   "cell_type": "code",
   "execution_count": null,
   "metadata": {},
   "outputs": [],
   "source": []
  },
  {
   "cell_type": "code",
   "execution_count": null,
   "metadata": {},
   "outputs": [],
   "source": []
  },
  {
   "cell_type": "code",
   "execution_count": 29,
   "metadata": {},
   "outputs": [],
   "source": [
    "import mlp_mixer_pytorch"
   ]
  },
  {
   "cell_type": "code",
   "execution_count": 30,
   "metadata": {},
   "outputs": [
    {
     "data": {
      "text/plain": [
       "==========================================================================================\n",
       "Layer (type:depth-idx)                   Output Shape              Param #\n",
       "==========================================================================================\n",
       "Sequential                               --                        --\n",
       "├─Rearrange: 1-1                         [99, 16, 192]             --\n",
       "├─Linear: 1-2                            [99, 16, 48]              9,264\n",
       "├─Sequential: 1-3                        [99, 16, 48]              --\n",
       "│    └─PreNormResidual: 2-1              [99, 16, 48]              --\n",
       "│    │    └─LayerNorm: 3-1               [99, 16, 48]              96\n",
       "│    │    └─Sequential: 3-2              [99, 16, 48]              2,128\n",
       "│    └─PreNormResidual: 2-2              [99, 16, 48]              --\n",
       "│    │    └─LayerNorm: 3-3               [99, 16, 48]              96\n",
       "│    │    └─Sequential: 3-4              [99, 16, 48]              18,672\n",
       "├─Sequential: 1-4                        [99, 16, 48]              --\n",
       "│    └─PreNormResidual: 2-3              [99, 16, 48]              --\n",
       "│    │    └─LayerNorm: 3-5               [99, 16, 48]              96\n",
       "│    │    └─Sequential: 3-6              [99, 16, 48]              2,128\n",
       "│    └─PreNormResidual: 2-4              [99, 16, 48]              --\n",
       "│    │    └─LayerNorm: 3-7               [99, 16, 48]              96\n",
       "│    │    └─Sequential: 3-8              [99, 16, 48]              18,672\n",
       "├─Sequential: 1-5                        [99, 16, 48]              --\n",
       "│    └─PreNormResidual: 2-5              [99, 16, 48]              --\n",
       "│    │    └─LayerNorm: 3-9               [99, 16, 48]              96\n",
       "│    │    └─Sequential: 3-10             [99, 16, 48]              2,128\n",
       "│    └─PreNormResidual: 2-6              [99, 16, 48]              --\n",
       "│    │    └─LayerNorm: 3-11              [99, 16, 48]              96\n",
       "│    │    └─Sequential: 3-12             [99, 16, 48]              18,672\n",
       "├─Sequential: 1-6                        [99, 16, 48]              --\n",
       "│    └─PreNormResidual: 2-7              [99, 16, 48]              --\n",
       "│    │    └─LayerNorm: 3-13              [99, 16, 48]              96\n",
       "│    │    └─Sequential: 3-14             [99, 16, 48]              2,128\n",
       "│    └─PreNormResidual: 2-8              [99, 16, 48]              --\n",
       "│    │    └─LayerNorm: 3-15              [99, 16, 48]              96\n",
       "│    │    └─Sequential: 3-16             [99, 16, 48]              18,672\n",
       "├─Sequential: 1-7                        [99, 16, 48]              --\n",
       "│    └─PreNormResidual: 2-9              [99, 16, 48]              --\n",
       "│    │    └─LayerNorm: 3-17              [99, 16, 48]              96\n",
       "│    │    └─Sequential: 3-18             [99, 16, 48]              2,128\n",
       "│    └─PreNormResidual: 2-10             [99, 16, 48]              --\n",
       "│    │    └─LayerNorm: 3-19              [99, 16, 48]              96\n",
       "│    │    └─Sequential: 3-20             [99, 16, 48]              18,672\n",
       "├─Sequential: 1-8                        [99, 16, 48]              --\n",
       "│    └─PreNormResidual: 2-11             [99, 16, 48]              --\n",
       "│    │    └─LayerNorm: 3-21              [99, 16, 48]              96\n",
       "│    │    └─Sequential: 3-22             [99, 16, 48]              2,128\n",
       "│    └─PreNormResidual: 2-12             [99, 16, 48]              --\n",
       "│    │    └─LayerNorm: 3-23              [99, 16, 48]              96\n",
       "│    │    └─Sequential: 3-24             [99, 16, 48]              18,672\n",
       "├─Sequential: 1-9                        [99, 16, 48]              --\n",
       "│    └─PreNormResidual: 2-13             [99, 16, 48]              --\n",
       "│    │    └─LayerNorm: 3-25              [99, 16, 48]              96\n",
       "│    │    └─Sequential: 3-26             [99, 16, 48]              2,128\n",
       "│    └─PreNormResidual: 2-14             [99, 16, 48]              --\n",
       "│    │    └─LayerNorm: 3-27              [99, 16, 48]              96\n",
       "│    │    └─Sequential: 3-28             [99, 16, 48]              18,672\n",
       "├─Sequential: 1-10                       [99, 16, 48]              --\n",
       "│    └─PreNormResidual: 2-15             [99, 16, 48]              --\n",
       "│    │    └─LayerNorm: 3-29              [99, 16, 48]              96\n",
       "│    │    └─Sequential: 3-30             [99, 16, 48]              2,128\n",
       "│    └─PreNormResidual: 2-16             [99, 16, 48]              --\n",
       "│    │    └─LayerNorm: 3-31              [99, 16, 48]              96\n",
       "│    │    └─Sequential: 3-32             [99, 16, 48]              18,672\n",
       "├─Sequential: 1-11                       [99, 16, 48]              --\n",
       "│    └─PreNormResidual: 2-17             [99, 16, 48]              --\n",
       "│    │    └─LayerNorm: 3-33              [99, 16, 48]              96\n",
       "│    │    └─Sequential: 3-34             [99, 16, 48]              2,128\n",
       "│    └─PreNormResidual: 2-18             [99, 16, 48]              --\n",
       "│    │    └─LayerNorm: 3-35              [99, 16, 48]              96\n",
       "│    │    └─Sequential: 3-36             [99, 16, 48]              18,672\n",
       "├─Sequential: 1-12                       [99, 16, 48]              --\n",
       "│    └─PreNormResidual: 2-19             [99, 16, 48]              --\n",
       "│    │    └─LayerNorm: 3-37              [99, 16, 48]              96\n",
       "│    │    └─Sequential: 3-38             [99, 16, 48]              2,128\n",
       "│    └─PreNormResidual: 2-20             [99, 16, 48]              --\n",
       "│    │    └─LayerNorm: 3-39              [99, 16, 48]              96\n",
       "│    │    └─Sequential: 3-40             [99, 16, 48]              18,672\n",
       "├─LayerNorm: 1-13                        [99, 16, 48]              96\n",
       "├─Reduce: 1-14                           [99, 48]                  --\n",
       "├─Linear: 1-15                           [99, 10]                  490\n",
       "├─LogSoftmax: 1-16                       [99, 10]                  --\n",
       "==========================================================================================\n",
       "Total params: 219,770\n",
       "Trainable params: 219,770\n",
       "Non-trainable params: 0\n",
       "Total mult-adds (G): 1.09\n",
       "==========================================================================================\n",
       "Input size (MB): 1.22\n",
       "Forward/backward pass size (MB): 74.22\n",
       "Params size (MB): 0.88\n",
       "Estimated Total Size (MB): 76.31\n",
       "=========================================================================================="
      ]
     },
     "execution_count": 30,
     "metadata": {},
     "output_type": "execute_result"
    }
   ],
   "source": [
    "net = mlp_mixer_pytorch.MLPMixer(image_size=32, channels=3, \n",
    "                                 patch_size=8, dim=48, depth=10, \n",
    "                                 num_classes=10)\n",
    "\n",
    "\n",
    "torchinfo.summary(net, input_size=(99, 3, 32, 32))"
   ]
  },
  {
   "cell_type": "code",
   "execution_count": null,
   "metadata": {},
   "outputs": [],
   "source": []
  },
  {
   "cell_type": "code",
   "execution_count": null,
   "metadata": {},
   "outputs": [],
   "source": []
  },
  {
   "cell_type": "code",
   "execution_count": null,
   "metadata": {},
   "outputs": [],
   "source": []
  },
  {
   "cell_type": "code",
   "execution_count": null,
   "metadata": {},
   "outputs": [],
   "source": []
  },
  {
   "cell_type": "code",
   "execution_count": null,
   "metadata": {},
   "outputs": [],
   "source": []
  },
  {
   "cell_type": "code",
   "execution_count": null,
   "metadata": {},
   "outputs": [],
   "source": []
  },
  {
   "cell_type": "code",
   "execution_count": 107,
   "metadata": {},
   "outputs": [
    {
     "data": {
      "image/png": "[encoded data removed]",
      "text/plain": [
       "<Figure size 360x360 with 256 Axes>"
      ]
     },
     "metadata": {},
     "output_type": "display_data"
    },
    {
     "data": {
      "image/png": "[encoded data removed]",
      "text/plain": [
       "<Figure size 432x288 with 1 Axes>"
      ]
     },
     "metadata": {
      "needs_background": "light"
     },
     "output_type": "display_data"
    },
    {
     "name": "stdout",
     "output_type": "stream",
     "text": [
      "frog\n"
     ]
    }
   ],
   "source": [
    "def show_picture(X_batch, X_batch_patch, Y_batch, i=0):\n",
    "    plt.figure(figsize=(5,5))\n",
    "    for pi1 in range(16):\n",
    "        for pi2 in range(16):\n",
    "            plt.subplot(16, 16, pi1*16+pi2+1)\n",
    "            plt.imshow(X_batch_patch[i, pi1, pi2].numpy())\n",
    "            plt.xticks([]);plt.yticks([])\n",
    "    plt.show()\n",
    "    plt.imshow(X_batch[i].permute(1, 2, 0).numpy())\n",
    "    plt.show()\n",
    "    print(labels[Y_batch[i]])\n",
    "    \n",
    "show_picture(X_batch, X_batch_patch, Y_batch, 7)"
   ]
  },
  {
   "cell_type": "code",
   "execution_count": null,
   "metadata": {},
   "outputs": [],
   "source": []
  },
  {
   "cell_type": "code",
   "execution_count": null,
   "metadata": {},
   "outputs": [],
   "source": []
  },
  {
   "cell_type": "code",
   "execution_count": null,
   "metadata": {},
   "outputs": [],
   "source": []
  },
  {
   "cell_type": "code",
   "execution_count": null,
   "metadata": {},
   "outputs": [],
   "source": []
  },
  {
   "cell_type": "code",
   "execution_count": null,
   "metadata": {},
   "outputs": [],
   "source": []
  },
  {
   "cell_type": "code",
   "execution_count": 193,
   "metadata": {},
   "outputs": [],
   "source": [
    "net = mlp_shaker_flat.ViShaker([64, 48], [0, 1]*50, \n",
    "                               global_avg_pool_str='b i j -> b j', residual=True, normalize=True)\n",
    "\n",
    "\n",
    "X = torch.randn(10, 3, 32, 32)\n",
    "Y = torch.randint(high=10, size=(10,))\n",
    "\n",
    "loss_fn = nn.NLLLoss()\n",
    "opt = torch.optim.Adam(net.parameters())\n",
    "\n",
    "opt.zero_grad()\n",
    "Yp = net(X)\n",
    "loss = loss_fn(Yp, Y)\n",
    "loss.backward()\n"
   ]
  },
  {
   "cell_type": "code",
   "execution_count": 194,
   "metadata": {},
   "outputs": [],
   "source": [
    "# torchinfo.summary(net)"
   ]
  },
  {
   "cell_type": "code",
   "execution_count": 195,
   "metadata": {},
   "outputs": [
    {
     "data": {
      "image/png": "[encoded data removed]",
      "text/plain": [
       "<Figure size 432x288 with 1 Axes>"
      ]
     },
     "metadata": {
      "needs_background": "light"
     },
     "output_type": "display_data"
    }
   ],
   "source": [
    "# grad_max = [p.grad.abs().max().item() for p in net.parameters()]\n",
    "# grad_min = [p.grad.abs().min().item() for p in net.parameters()]\n",
    "# grad_mean = [p.grad.abs().mean().item() for p in net.parameters()]\n",
    "\n",
    "\n",
    "# grad_max = [net.shaker.mix_dims[i].fn[0].weight.grad.norm().max().item() for i in range(20)]\n",
    "# grad_min = [net.shaker.mix_dims[i].fn[0].weight.grad.norm().min().item() for i in range(20)]\n",
    "# grad_mean = [net.shaker.mix_dims[i].fn[0].weight.grad.norm().mean().item() for i in range(20)]\n",
    "\n",
    "grad_norm = [net.shaker.mix_dims[i].fn[3].weight.grad.flatten().norm().item() for i in range(0, 100,2)]\n",
    "plt.plot(grad_norm)\n",
    "grad_norm = [net.shaker.mix_dims[i].fn[3].weight.grad.flatten().norm().item() for i in range(1, 100,2)]\n",
    "plt.plot(grad_norm)\n",
    "# plt.plot(grad_mean)\n",
    "# plt.plot(grad_min)\n",
    "plt.title('gradient vs layer')\n",
    "plt.show()"
   ]
  },
  {
   "cell_type": "code",
   "execution_count": null,
   "metadata": {},
   "outputs": [],
   "source": []
  },
  {
   "cell_type": "code",
   "execution_count": null,
   "metadata": {},
   "outputs": [],
   "source": []
  },
  {
   "cell_type": "code",
   "execution_count": null,
   "metadata": {},
   "outputs": [],
   "source": []
  },
  {
   "cell_type": "code",
   "execution_count": null,
   "metadata": {},
   "outputs": [],
   "source": []
  },
  {
   "cell_type": "code",
   "execution_count": null,
   "metadata": {},
   "outputs": [],
   "source": []
  },
  {
   "cell_type": "code",
   "execution_count": 206,
   "metadata": {
    "collapsed": true,
    "jupyter": {
     "outputs_hidden": true
    }
   },
   "outputs": [
    {
     "name": "stdout",
     "output_type": "stream",
     "text": [
      "Decomposing (depth=3) [[32, 8], [16, [4, 2, 2]]] -> [256, 256]\n",
      "with repeats=[3, 2, 3]\n",
      "----> 3x \n",
      "\tDecomposing (depth=2) [32, 8] -> [32, 8]\n",
      "\twith repeats=[2, 3]\n",
      "\t----> 2x \n",
      "\tPutting Linear size 32\n",
      "\tPutting Linear size 8\n",
      "\t<----\n",
      "\tDecomposing (depth=2) [16, [4, 2, 2]] -> [16, 16]\n",
      "\twith repeats=[2, 3]\n",
      "\t----> 2x \n",
      "\tPutting Linear size 16\n",
      "\t\tDecomposing (depth=1) [4, 2, 2] -> [4, 2, 2]\n",
      "\t\twith repeats=[3]\n",
      "\t\t----> 3x \n",
      "\t\tPutting Linear size 4\n",
      "\t\tPutting Linear size 2\n",
      "\t\tPutting Linear size 2\n",
      "\t\t<----\n",
      "\t<----\n",
      "<----\n",
      "# parameters:  8976\n",
      "torch.Size([10, 65536]) --> torch.Size([10, 256, 256])\n",
      "torch.Size([10, 256, 256]) --> torch.Size([2560, 32, 8])\n",
      "Densely mixing with 32\n",
      "Densely mixing with 8\n",
      "Densely mixing with 32\n",
      "Densely mixing with 8\n",
      "torch.Size([10, 256, 256]) <-- torch.Size([2560, 32, 8])\n",
      "torch.Size([10, 256, 256]) --> torch.Size([2560, 16, 16])\n",
      "Densely mixing with 16\n",
      "torch.Size([2560, 16, 16]) --> torch.Size([40960, 4, 2, 2])\n",
      "Densely mixing with 4\n",
      "Densely mixing with 2\n",
      "Densely mixing with 2\n",
      "Densely mixing with 4\n",
      "Densely mixing with 2\n",
      "Densely mixing with 2\n",
      "Densely mixing with 4\n",
      "Densely mixing with 2\n",
      "Densely mixing with 2\n",
      "torch.Size([2560, 16, 16]) <-- torch.Size([40960, 4, 2, 2])\n",
      "Densely mixing with 16\n",
      "torch.Size([2560, 16, 16]) --> torch.Size([40960, 4, 2, 2])\n",
      "Densely mixing with 4\n",
      "Densely mixing with 2\n",
      "Densely mixing with 2\n",
      "Densely mixing with 4\n",
      "Densely mixing with 2\n",
      "Densely mixing with 2\n",
      "Densely mixing with 4\n",
      "Densely mixing with 2\n",
      "Densely mixing with 2\n",
      "torch.Size([2560, 16, 16]) <-- torch.Size([40960, 4, 2, 2])\n",
      "torch.Size([10, 256, 256]) <-- torch.Size([2560, 16, 16])\n",
      "torch.Size([10, 256, 256]) --> torch.Size([2560, 32, 8])\n",
      "Densely mixing with 32\n",
      "Densely mixing with 8\n",
      "Densely mixing with 32\n",
      "Densely mixing with 8\n",
      "torch.Size([10, 256, 256]) <-- torch.Size([2560, 32, 8])\n",
      "torch.Size([10, 256, 256]) --> torch.Size([2560, 16, 16])\n",
      "Densely mixing with 16\n",
      "torch.Size([2560, 16, 16]) --> torch.Size([40960, 4, 2, 2])\n",
      "Densely mixing with 4\n",
      "Densely mixing with 2\n",
      "Densely mixing with 2\n",
      "Densely mixing with 4\n",
      "Densely mixing with 2\n",
      "Densely mixing with 2\n",
      "Densely mixing with 4\n",
      "Densely mixing with 2\n",
      "Densely mixing with 2\n",
      "torch.Size([2560, 16, 16]) <-- torch.Size([40960, 4, 2, 2])\n",
      "Densely mixing with 16\n",
      "torch.Size([2560, 16, 16]) --> torch.Size([40960, 4, 2, 2])\n",
      "Densely mixing with 4\n",
      "Densely mixing with 2\n",
      "Densely mixing with 2\n",
      "Densely mixing with 4\n",
      "Densely mixing with 2\n",
      "Densely mixing with 2\n",
      "Densely mixing with 4\n",
      "Densely mixing with 2\n",
      "Densely mixing with 2\n",
      "torch.Size([2560, 16, 16]) <-- torch.Size([40960, 4, 2, 2])\n",
      "torch.Size([10, 256, 256]) <-- torch.Size([2560, 16, 16])\n",
      "torch.Size([10, 256, 256]) --> torch.Size([2560, 32, 8])\n",
      "Densely mixing with 32\n",
      "Densely mixing with 8\n",
      "Densely mixing with 32\n",
      "Densely mixing with 8\n",
      "torch.Size([10, 256, 256]) <-- torch.Size([2560, 32, 8])\n",
      "torch.Size([10, 256, 256]) --> torch.Size([2560, 16, 16])\n",
      "Densely mixing with 16\n",
      "torch.Size([2560, 16, 16]) --> torch.Size([40960, 4, 2, 2])\n",
      "Densely mixing with 4\n",
      "Densely mixing with 2\n",
      "Densely mixing with 2\n",
      "Densely mixing with 4\n",
      "Densely mixing with 2\n",
      "Densely mixing with 2\n",
      "Densely mixing with 4\n",
      "Densely mixing with 2\n",
      "Densely mixing with 2\n",
      "torch.Size([2560, 16, 16]) <-- torch.Size([40960, 4, 2, 2])\n",
      "Densely mixing with 16\n",
      "torch.Size([2560, 16, 16]) --> torch.Size([40960, 4, 2, 2])\n",
      "Densely mixing with 4\n",
      "Densely mixing with 2\n",
      "Densely mixing with 2\n",
      "Densely mixing with 4\n",
      "Densely mixing with 2\n",
      "Densely mixing with 2\n",
      "Densely mixing with 4\n",
      "Densely mixing with 2\n",
      "Densely mixing with 2\n",
      "torch.Size([2560, 16, 16]) <-- torch.Size([40960, 4, 2, 2])\n",
      "torch.Size([10, 256, 256]) <-- torch.Size([2560, 16, 16])\n",
      "torch.Size([10, 65536]) <-- torch.Size([10, 256, 256])\n"
     ]
    },
    {
     "data": {
      "text/plain": [
       "torch.Size([10, 65536])"
      ]
     },
     "execution_count": 206,
     "metadata": {},
     "output_type": "execute_result"
    }
   ],
   "source": [
    "\n",
    "# with contextlib.redirect_stdout(None):\n",
    "net = MLPShakerBlock([[32, 8], [16, [4,2,2]]], [3, 2, 3])\n",
    "#     net = MLPShakerBlock([256, 256], [3])\n",
    "print('# parameters: ', count_params(net))\n",
    "net(torch.randn(10, 256*256)).shape"
   ]
  }
 ],
 "metadata": {
  "kernelspec": {
   "display_name": "Python 3",
   "language": "python",
   "name": "python3"
  },
  "language_info": {
   "codemirror_mode": {
    "name": "ipython",
    "version": 3
   },
   "file_extension": ".py",
   "mimetype": "text/x-python",
   "name": "python",
   "nbconvert_exporter": "python",
   "pygments_lexer": "ipython3",
   "version": "3.7.5"
  }
 },
 "nbformat": 4,
 "nbformat_minor": 4
}
