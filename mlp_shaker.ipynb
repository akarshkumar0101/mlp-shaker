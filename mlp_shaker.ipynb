{
 "cells": [
  {
   "cell_type": "code",
   "execution_count": 1,
   "metadata": {},
   "outputs": [],
   "source": [
    "%load_ext autoreload\n",
    "%autoreload 2"
   ]
  },
  {
   "cell_type": "code",
   "execution_count": 2,
   "metadata": {},
   "outputs": [],
   "source": [
    "%run imports.py"
   ]
  },
  {
   "cell_type": "code",
   "execution_count": 3,
   "metadata": {},
   "outputs": [],
   "source": [
    "task = mnist.MNIST()\n",
    "task.load_all_data(device)"
   ]
  },
  {
   "cell_type": "code",
   "execution_count": 29,
   "metadata": {},
   "outputs": [
    {
     "name": "stdout",
     "output_type": "stream",
     "text": [
      "torch.Size([1, 4, 4, 1, 7, 7])\n",
      "[ 0.  7. 14. 21. 28.]\n",
      "0.0\n",
      "0.0\n",
      "0.0\n",
      "0.0\n",
      "9.333333333333334\n",
      "9.333333333333334\n",
      "9.333333333333334\n",
      "9.333333333333334\n",
      "18.666666666666668\n",
      "18.666666666666668\n",
      "18.666666666666668\n",
      "18.666666666666668\n",
      "28.0\n",
      "28.0\n",
      "28.0\n",
      "28.0\n"
     ]
    }
   ],
   "source": [
    "X = task.X_train[[0]].cpu()\n",
    "# plt.imshow(X[0,0].numpy())\n",
    "# plt.show()\n",
    "\n",
    "def image2patches(X, n_patches, patch_size=None):\n",
    "    bs, c, h, w = X.shape\n",
    "    \n",
    "    np1, np2 = n_patches\n",
    "    if patch_size is None:\n",
    "        ps1, ps2 = int(h/np1), int(w/np2)\n",
    "    else:\n",
    "        ps1, ps2 = patch_size\n",
    "    result = torch.empty(bs, np1, np2, c, ps1, ps2, device=X.device, dtype=X.dtype)\n",
    "    print(result.shape)\n",
    "    print(np.linspace(0, h, np1+1))\n",
    "    for x in np.linspace(0, h, np1):\n",
    "        for p2 in range(np2):\n",
    "            print(x)\n",
    "#             print(p1, np1, h*p1/np1)\n",
    "#             x, y = h*(p1/np1), w*(p2/np2)\n",
    "#             xb, yb = x-ps1/2, y-ps2/2\n",
    "#             xa, ya = x+ps1/2, y+ps2/2\n",
    "#             print(xb, yb)\n",
    "#             patch = X[:, :, int(xb):int(xa), int(yb): int(ya)]\n",
    "#             print(patch.shape)\n",
    "#             result[:, p1, p2, :, :, :] = patch\n",
    "#     return result\n",
    "    \n",
    "    \n",
    "image2patches(X, (4, 4), )"
   ]
  },
  {
   "cell_type": "code",
   "execution_count": null,
   "metadata": {},
   "outputs": [],
   "source": []
  },
  {
   "cell_type": "code",
   "execution_count": null,
   "metadata": {},
   "outputs": [],
   "source": []
  },
  {
   "cell_type": "code",
   "execution_count": 2,
   "metadata": {},
   "outputs": [],
   "source": [
    "with open('data/big.txt', 'r') as file:\n",
    "    data = file.read()"
   ]
  },
  {
   "cell_type": "code",
   "execution_count": 3,
   "metadata": {},
   "outputs": [
    {
     "data": {
      "text/plain": [
       "True"
      ]
     },
     "execution_count": 3,
     "metadata": {},
     "output_type": "execute_result"
    }
   ],
   "source": [
    "c = 'a'\n",
    "c >= 'a' and c<='z'"
   ]
  },
  {
   "cell_type": "code",
   "execution_count": 11,
   "metadata": {},
   "outputs": [
    {
     "data": {
      "text/plain": [
       "'the project gutenberg ebook of the adventures of sherlock holmesby sir arthur conan doyle in our series by sir arthur conan doylecopyright laws are changing all over the world be sure to check thecopyright laws for your country before downloading or redistributingthis or any other project gutenberg ebookthis header should be the first thing seen when viewing this projectgutenberg file  please do not remove it  do not change or edit theheader without written permissionplease read the legal small print and other information about theebook and project gutenberg at the bottom of this file  included isimportant information about your specific rights and restrictions inhow the file may be used  you can also find out about how to make adonation to project gutenberg and how to get involvedwelcome to the world of free plain vanilla electronic textsebooks readable by both humans and by computers since these ebooks were prepared by thousands of volunteerstitle the adventures of sherlock holmesaut'"
      ]
     },
     "execution_count": 11,
     "metadata": {},
     "output_type": "execute_result"
    }
   ],
   "source": [
    "datap = [c for c in data.lower() if (c >= 'a' and c<='z' or c==' ')]\n",
    "# print({a for a in datap})\n",
    "''.join(datap)[:1000]"
   ]
  },
  {
   "cell_type": "code",
   "execution_count": 32,
   "metadata": {},
   "outputs": [
    {
     "name": "stdout",
     "output_type": "stream",
     "text": [
      "11098\n",
      "66588\n"
     ]
    }
   ],
   "source": [
    "decoder_layer = nn.TransformerDecoderLayer(d_model=26, nhead=2, dim_feedforward=100)\n",
    "transformer_decoder = nn.TransformerDecoder(decoder_layer, num_layers=6)\n",
    "\n",
    "\n",
    "print(np.sum([p.numel() for p in decoder_layer.parameters()]))\n",
    "print(np.sum([p.numel() for p in transformer_decoder.parameters()]))"
   ]
  },
  {
   "cell_type": "code",
   "execution_count": 39,
   "metadata": {},
   "outputs": [
    {
     "data": {
      "text/plain": [
       "(torch.Size([9, 50, 26]), torch.Size([50, 9, 9]))"
      ]
     },
     "execution_count": 39,
     "metadata": {},
     "output_type": "execute_result"
    }
   ],
   "source": [
    "q, k, v = torch.randn(3, 9, 50, 26)\n",
    "out, out_weights = list(decoder_layer.modules())[1](q, k, v)\n",
    "out.shape, out_weights.shape"
   ]
  },
  {
   "cell_type": "code",
   "execution_count": 41,
   "metadata": {},
   "outputs": [
    {
     "data": {
      "text/plain": [
       "<matplotlib.image.AxesImage at 0x7f3393501290>"
      ]
     },
     "execution_count": 41,
     "metadata": {},
     "output_type": "execute_result"
    },
    {
     "data": {
      "image/png": "[encoded data removed]",
      "text/plain": [
       "<Figure size 432x288 with 1 Axes>"
      ]
     },
     "metadata": {
      "needs_background": "light"
     },
     "output_type": "display_data"
    }
   ],
   "source": [
    "plt.imshow(out_weights.detach().numpy()[0])"
   ]
  },
  {
   "cell_type": "code",
   "execution_count": 51,
   "metadata": {},
   "outputs": [],
   "source": [
    "from einops import rearrange, reduce, repeat"
   ]
  },
  {
   "cell_type": "code",
   "execution_count": null,
   "metadata": {},
   "outputs": [],
   "source": []
  },
  {
   "cell_type": "code",
   "execution_count": null,
   "metadata": {},
   "outputs": [],
   "source": [
    "def upsample_images(X, hw):\n",
    "    b, c, h, w = X.shape\n",
    "    nh, nw = hw\n",
    "    \n",
    "    nX = torch.zeros(b, c, nh, nw).to(X)\n",
    "    \n",
    "    return nX\n",
    "    \n",
    "    "
   ]
  },
  {
   "cell_type": "code",
   "execution_count": 111,
   "metadata": {},
   "outputs": [
    {
     "data": {
      "image/png": "[encoded data removed]",
      "text/plain": [
       "<Figure size 432x288 with 1 Axes>"
      ]
     },
     "metadata": {
      "needs_background": "light"
     },
     "output_type": "display_data"
    },
    {
     "data": {
      "image/png": "[encoded data removed]",
      "text/plain": [
       "<Figure size 432x288 with 49 Axes>"
      ]
     },
     "metadata": {},
     "output_type": "display_data"
    }
   ],
   "source": [
    "def patchify_images(X, n_patches):\n",
    "    np1, np2 = n_patches\n",
    "    b, c, h, w = X.shape\n",
    "    out = rearrange(X, 'b c (np1 ps1) (np2 ps2) -> b c np1 np2 ps1 ps2', np1=np1, np2=np2)\n",
    "    out = X.reshape(b, c, np1, h//np1, np2, w//np2).permute(0, 1, 2, 4, 3, 5)\n",
    "#     print(out.shape)\n",
    "    return out\n",
    "\n",
    "def show_patches(X, patches):\n",
    "    plt.imshow(X[0].detach().cpu().numpy())\n",
    "    plt.show()\n",
    "    c, h, w, _, _ = patches.shape\n",
    "    \n",
    "    for i in range(h):\n",
    "        for j in range(w):\n",
    "            plt.subplot(h, w, j+i*h+1)\n",
    "            plt.imshow(patches[0, i, j].detach().cpu().numpy())\n",
    "            plt.xticks([]);plt.yticks([]);\n",
    "    \n",
    "    \n",
    "\n",
    "temp = patchify_images(X, (7, 7,))\n",
    "\n",
    "show_patches(X[0], temp[0])\n"
   ]
  },
  {
   "cell_type": "code",
   "execution_count": null,
   "metadata": {},
   "outputs": [],
   "source": []
  },
  {
   "cell_type": "code",
   "execution_count": null,
   "metadata": {},
   "outputs": [],
   "source": []
  },
  {
   "cell_type": "code",
   "execution_count": null,
   "metadata": {},
   "outputs": [],
   "source": []
  },
  {
   "cell_type": "code",
   "execution_count": null,
   "metadata": {},
   "outputs": [],
   "source": []
  },
  {
   "cell_type": "code",
   "execution_count": null,
   "metadata": {},
   "outputs": [],
   "source": []
  },
  {
   "cell_type": "code",
   "execution_count": 5,
   "metadata": {},
   "outputs": [],
   "source": [
    "def flatten_list(a):\n",
    "    ret = []\n",
    "    if type(a) is list:\n",
    "        for i in a:\n",
    "            ret.extend(flatten_list(i))\n",
    "    else:\n",
    "        ret.append(a)\n",
    "    return ret\n"
   ]
  },
  {
   "cell_type": "code",
   "execution_count": 7,
   "metadata": {},
   "outputs": [],
   "source": [
    "# class MLPMixerX2(nn.Module):\n",
    "#     \"\"\"\n",
    "#     Maps (bs, dim1*dim2) to (bs, dim1*dim2)\n",
    "#     \"\"\"\n",
    "#     def __init__(self, dim1a, dim1b, dim2a, dim2b, num_repeats, num_repeats2):\n",
    "#         super().__init__()\n",
    "        \n",
    "#         self.dim1, self.dim2 = dim1a*dim1b, dim2a*dim2b\n",
    "#         self.flip1s = nn.ModuleList([MLPMixer(dim1a, dim1b, num_repeats2) for _ in range(num_repeats)])\n",
    "#         self.flip2s = nn.ModuleList([MLPMixer(dim2a, dim2b, num_repeats2) for _ in range(num_repeats)])\n",
    "        \n",
    "#     def forward(self, x):\n",
    "#         shape = x.shape\n",
    "#         x = x.reshape(-1, self.dim2, self.dim1)\n",
    "#         for f1, f2 in zip(self.flip1s, self.flip2s):\n",
    "#             x = torch.relu(f1(x))\n",
    "#             x = x.transpose(-1, -2)\n",
    "#             x = torch.relu(f2(x))\n",
    "#             x = x.transpose(-1, -2)\n",
    "#         return x.reshape(shape)\n",
    "    \n",
    "# class MLPMixer(nn.Module):\n",
    "#     \"\"\"\n",
    "#     Maps (bs, dim1*dim2) to (bs, dim1*dim2)\n",
    "#     \"\"\"\n",
    "#     def __init__(self, dim1, dim2, num_repeats):\n",
    "#         super().__init__()\n",
    "        \n",
    "#         self.dim1, self.dim2 = dim1, dim2\n",
    "#         self.flip1s = nn.ModuleList([nn.Linear(dim1, dim1) for _ in range(num_repeats)])\n",
    "#         self.flip2s = nn.ModuleList([nn.Linear(dim2, dim2) for _ in range(num_repeats)])\n",
    "        \n",
    "#     def forward(self, x):\n",
    "#         shape = x.shape\n",
    "#         x = x.reshape(-1, self.dim2, self.dim1)\n",
    "#         for f1, f2 in zip(self.flip1s, self.flip2s):\n",
    "#             x = torch.relu(f1(x))\n",
    "#             x = x.transpose(-1, -2)\n",
    "#             x = torch.relu(f2(x))\n",
    "#             x = x.transpose(-1, -2)\n",
    "#         return x.reshape(shape)\n",
    "\n",
    "class LinearMNIST(nn.Module):\n",
    "    def __init__(self, prev_layer, dim_in):\n",
    "        super().__init__()\n",
    "        self.prev_layer = prev_layer\n",
    "        self.lin = nn.Linear(dim_in, 10)\n",
    "        \n",
    "        for p in self.lin.parameters():\n",
    "            p.requires_grad_(False)\n",
    "    def forward(self, x):\n",
    "        x = self.prev_layer(x)\n",
    "        x = x.reshape(len(x), -1)\n",
    "        x = self.lin(x)\n",
    "        return x.log_softmax(dim=-1)\n",
    "    \n",
    "# net = LinearMNIST(MLPMixerX2(7,4, 7, 4, 1, 1), 28*28)\n",
    "# print(np.sum([p.numel() for p in net.parameters()]))\n",
    "# net = LinearMNIST(MLPMixer(28, 28, 1), 28*28)\n",
    "# print(np.sum([p.numel() for p in net.parameters()]))\n",
    "# net = LinearMNIST(nn.Identity(), 28*28)\n",
    "# print(np.sum([p.numel() for p in net.parameters()]))\n",
    "        \n",
    "# net(torch.randn(3, 1, 28, 28)).shape"
   ]
  },
  {
   "cell_type": "code",
   "execution_count": 8,
   "metadata": {},
   "outputs": [
    {
     "name": "stdout",
     "output_type": "stream",
     "text": [
      "2176\n",
      "320\n",
      "768\n"
     ]
    },
    {
     "data": {
      "text/plain": [
       "torch.Size([3, 10])"
      ]
     },
     "execution_count": 8,
     "metadata": {},
     "output_type": "execute_result"
    }
   ],
   "source": [
    "class MLPMixer(nn.Module):\n",
    "    \"\"\"\n",
    "    Maps (bs, N) to (bs, N)\n",
    "    where N = dims[0]*dims[1]\n",
    "    \"\"\"\n",
    "    def __init__(self, dims, num_repeats):\n",
    "        super().__init__()\n",
    "        \n",
    "        self.dims1, self.dims2 = dims\n",
    "        \n",
    "        self.dims1prod = np.prod(flatten_list(self.dims1))\n",
    "        self.dims2prod = np.prod(flatten_list(self.dims2))\n",
    "        \n",
    "        self.num_repeats = num_repeats[0]\n",
    "        self.num_repeats_child = num_repeats[1:]\n",
    "        \n",
    "        if type(self.dims1) is list:\n",
    "            self.flip1s = nn.ModuleList([MLPMixer(self.dims1, self.num_repeats_child) for _ in range(self.num_repeats)])\n",
    "            self.flip2s = nn.ModuleList([MLPMixer(self.dims2, self.num_repeats_child) for _ in range(self.num_repeats)])\n",
    "        else:\n",
    "            self.flip1s = nn.ModuleList([nn.Linear(self.dims1prod, self.dims1prod) for _ in range(self.num_repeats)])\n",
    "            self.flip2s = nn.ModuleList([nn.Linear(self.dims2prod, self.dims2prod) for _ in range(self.num_repeats)])\n",
    "            \n",
    "        \n",
    "    def forward(self, x):\n",
    "        shape = x.shape\n",
    "        x = x.reshape(-1, self.dims2prod, self.dims1prod)\n",
    "        for f1, f2 in zip(self.flip1s, self.flip2s):\n",
    "            x = torch.relu(f1(x))\n",
    "            x = x.transpose(-1, -2)\n",
    "            x = torch.relu(f2(x))\n",
    "            x = x.transpose(-1, -2)\n",
    "        return x.reshape(shape)\n",
    "    \n",
    "linear_params = np.sum([p.numel() for p in LinearMNIST(nn.Identity(), 16*16).parameters()])\n",
    "\n",
    "# net = LinearMNIST(MLPMixer([28,28], [1]), 28*28)\n",
    "# print(np.sum([p.numel() for p in net.parameters()])-7850)\n",
    "# net(torch.randn(3, 1, 28, 28)).shape\n",
    "\n",
    "# net = LinearMNIST(MLPMixer([[7,4], [2,14]], [1, 1]), 28*28)\n",
    "# print(np.sum([p.numel() for p in net.parameters()])-7850)\n",
    "# net(torch.randn(3, 1, 28, 28)).shape\n",
    "\n",
    "# net = LinearMNIST(MLPMixer([[[1,7], [2,2]], [[2,1],[2,7]]], [1, 1, 1]), 28*28)\n",
    "# print(np.sum([p.numel() for p in net.parameters()])-7850)\n",
    "# net(torch.randn(3, 1, 28, 28)).shape\n",
    "\n",
    "net = LinearMNIST(MLPMixer([16,16], [4]), 16*16)\n",
    "print(np.sum([p.numel() for p in net.parameters()])-linear_params)\n",
    "net(torch.randn(3, 1, 16, 16)).shape\n",
    "\n",
    "net = LinearMNIST(MLPMixer([[4, 4],[4, 4]], [2, 2]), 16*16)\n",
    "print(np.sum([p.numel() for p in net.parameters()])-linear_params)\n",
    "net(torch.randn(3, 1, 16, 16)).shape\n",
    "\n",
    "net = LinearMNIST(MLPMixer([[[2,2], [2,2]], [[2,2],[2,2]]], [2, 2, 4]), 16*16)\n",
    "print(np.sum([p.numel() for p in net.parameters()])-linear_params)\n",
    "net(torch.randn(3, 1, 16, 16)).shape"
   ]
  },
  {
   "cell_type": "code",
   "execution_count": 109,
   "metadata": {},
   "outputs": [
    {
     "name": "stdout",
     "output_type": "stream",
     "text": [
      "torch.Size([5000, 1, 28, 28])\n",
      "torch.Size([5000, 1, 4, 4, 7, 7])\n"
     ]
    },
    {
     "data": {
      "text/plain": [
       "torch.Size([5000, 1, 16, 49])"
      ]
     },
     "execution_count": 109,
     "metadata": {},
     "output_type": "execute_result"
    }
   ],
   "source": [
    "print(X_batch.shape)\n",
    "rearrange(patchify_images(X_batch, (4,4)), 'b c np1 np2 ps1 ps2 -> b c (np1 np2) (ps1 ps2)').shape\n",
    "# print().reshape()"
   ]
  },
  {
   "cell_type": "code",
   "execution_count": 84,
   "metadata": {},
   "outputs": [
    {
     "name": "stdout",
     "output_type": "stream",
     "text": [
      "1624\n"
     ]
    },
    {
     "data": {
      "application/vnd.jupyter.widget-view+json": {
       "model_id": "dd65b5926a08409296650492ce6f73b7",
       "version_major": 2,
       "version_minor": 0
      },
      "text/plain": [
       "HBox(children=(FloatProgress(value=0.0, max=300.0), HTML(value='')))"
      ]
     },
     "metadata": {},
     "output_type": "display_data"
    },
    {
     "name": "stdout",
     "output_type": "stream",
     "text": [
      "\n"
     ]
    }
   ],
   "source": [
    "# net = LinearMNIST(MLPMixer([[[7,1],[2,2]],[[1,7],[2,2]]], [1,1,1]), 28*28)\n",
    "# net = LinearMNIST(MLPMixer([[7,4],[7,4]], [2, 2]), 28*28)\n",
    "net = LinearMNIST(MLPMixer([28,28], [1]), 28*28)\n",
    "# net = LinearMNIST(nn.Identity(), 28*28)\n",
    "print(np.sum([p.numel() for p in net.parameters()])-7850)\n",
    "net = net.to(device)\n",
    "opt = torch.optim.Adam(net.parameters(), lr=1e-2)\n",
    "\n",
    "bs = 5000\n",
    "\n",
    "data = []\n",
    "data.append(task.calc_pheo_fitness(net, None, device, 'test'))\n",
    "loop = tqdm(range(300))\n",
    "for epoch_idx in loop:\n",
    "    train_loader = zip(task.X_train.reshape(-1, bs, 1, 28, 28), \n",
    "                       task.Y_train.reshape(-1, bs))\n",
    "    for X_batch, Y_batch in train_loader:\n",
    "#         X_batch, Y_batch = X_batch.to(device), Y_batch.to(device)\n",
    "        Y_batch_pred = net(X_batch)\n",
    "        loss = task.loss_func(Y_batch_pred, Y_batch)\n",
    "        opt.zero_grad()\n",
    "        loss.backward()\n",
    "        opt.step()\n",
    "    fit = task.calc_pheo_fitness(net, None, device, 'test')\n",
    "    data.append(fit)\n",
    "    loop.set_postfix(fit)\n",
    "data = util.arr_dict2dict_arr(np.array(data))\n"
   ]
  },
  {
   "cell_type": "code",
   "execution_count": 97,
   "metadata": {},
   "outputs": [
    {
     "name": "stdout",
     "output_type": "stream",
     "text": [
      "608\n",
      "1624\n"
     ]
    }
   ],
   "source": [
    "net = LinearMNIST(MLPMixer([[7,4],[7,4]], [2, 2]), 28*28)\n",
    "print(np.sum([p.numel() for p in net.parameters()])-7850)\n",
    "net = LinearMNIST(MLPMixer([28,28], [1]), 28*28)\n",
    "print(np.sum([p.numel() for p in net.parameters()])-7850)"
   ]
  },
  {
   "cell_type": "code",
   "execution_count": 113,
   "metadata": {},
   "outputs": [
    {
     "data": {
      "image/png": "[encoded data removed]",
      "text/plain": [
       "<Figure size 1440x360 with 2 Axes>"
      ]
     },
     "metadata": {
      "needs_background": "light"
     },
     "output_type": "display_data"
    }
   ],
   "source": [
    "plt.figure(figsize=(20,5))\n",
    "plt.subplot(121)\n",
    "plt.plot(data_0['loss'], label='MLP-Shaker_0(MLP-Mixer)')\n",
    "plt.plot(data_1['loss'], label='MLP-Shaker_1')\n",
    "plt.ylim(0, 2.5)\n",
    "plt.legend()\n",
    "plt.title('loss vs epochs')\n",
    "plt.subplot(122)\n",
    "plt.plot(data_0['accuracy'], label='MLP-Shaker_0(MLP-Mixer)')\n",
    "plt.plot(data_1['accuracy'], label='MLP-Shaker_1')\n",
    "plt.ylim(0, 100)\n",
    "plt.legend()\n",
    "plt.title('accuracy vs epochs')\n",
    "plt.suptitle('MLP-Shaker_0 has 1624 params, MLP-Shaker_1 has 608 params')\n",
    "plt.show()"
   ]
  },
  {
   "cell_type": "code",
   "execution_count": null,
   "metadata": {},
   "outputs": [],
   "source": []
  },
  {
   "cell_type": "code",
   "execution_count": null,
   "metadata": {},
   "outputs": [],
   "source": []
  },
  {
   "cell_type": "code",
   "execution_count": null,
   "metadata": {},
   "outputs": [],
   "source": []
  }
 ],
 "metadata": {
  "kernelspec": {
   "display_name": "Python 3",
   "language": "python",
   "name": "python3"
  },
  "language_info": {
   "codemirror_mode": {
    "name": "ipython",
    "version": 3
   },
   "file_extension": ".py",
   "mimetype": "text/x-python",
   "name": "python",
   "nbconvert_exporter": "python",
   "pygments_lexer": "ipython3",
   "version": "3.7.5"
  }
 },
 "nbformat": 4,
 "nbformat_minor": 4
}
